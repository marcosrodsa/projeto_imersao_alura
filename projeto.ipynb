{
  "cells": [
    {
      "cell_type": "markdown",
      "metadata": {
        "id": "view-in-github",
        "colab_type": "text"
      },
      "source": [
        "<a href=\"https://colab.research.google.com/github/marcosrodsa/projeto_imersao_alura/blob/main/projeto.ipynb\" target=\"_parent\"><img src=\"https://colab.research.google.com/assets/colab-badge.svg\" alt=\"Open In Colab\"/></a>"
      ]
    },
    {
      "cell_type": "markdown",
      "metadata": {
        "id": "H89dVzKx4GHO"
      },
      "source": [
        "Instalando Dependências"
      ]
    },
    {
      "cell_type": "code",
      "execution_count": 1,
      "metadata": {
        "id": "gTP6iIJDnwVg"
      },
      "outputs": [],
      "source": [
        "!pip install -q -U google-generativeai"
      ]
    },
    {
      "cell_type": "code",
      "execution_count": 2,
      "metadata": {
        "id": "FWT8Zn6N38qh"
      },
      "outputs": [],
      "source": [
        "!pip install -q -U geopy"
      ]
    },
    {
      "cell_type": "code",
      "execution_count": 3,
      "metadata": {
        "id": "jTpeDEz0ZJpY"
      },
      "outputs": [],
      "source": [
        "!pip install -q -U google-api-python-client"
      ]
    },
    {
      "cell_type": "code",
      "execution_count": 4,
      "metadata": {
        "id": "Ar0PDLOFer6d"
      },
      "outputs": [],
      "source": [
        "!pip install -q -U google-search-results"
      ]
    },
    {
      "cell_type": "code",
      "execution_count": 5,
      "metadata": {
        "id": "UG0S2eQ1fk5m"
      },
      "outputs": [],
      "source": [
        "!pip install newspaper3k -q -U"
      ]
    },
    {
      "cell_type": "code",
      "execution_count": 6,
      "metadata": {
        "id": "5842QBHKCC_Z"
      },
      "outputs": [],
      "source": [
        "!pip install unstructured -q -U"
      ]
    },
    {
      "cell_type": "markdown",
      "metadata": {
        "id": "7X8btBnYp5YA"
      },
      "source": [
        "Inicando Funções"
      ]
    },
    {
      "cell_type": "code",
      "execution_count": null,
      "metadata": {
        "colab": {
          "base_uri": "https://localhost:8080/",
          "height": 1000
        },
        "id": "Y0hoP7KleM82",
        "outputId": "c7f0756d-7a28-43c5-d2e3-10b5410c6c34"
      },
      "outputs": [
        {
          "output_type": "stream",
          "name": "stdout",
          "text": [
            "\n",
            "Menu Principal:\n",
            "1. Últimas Informações sobre as Enchentes no RS\n",
            "2. Lugares para Doações\n",
            "3. Ítens Necessários para Doações\n",
            "4. Informações Urgentes da Defesa Civil\n",
            "5. Prever Áreas de Risco\n",
            "6. Sair\n",
            "Digite sua opção: 1\n",
            "**Últimas Informações sobre as Enchentes no RS**\n"
          ]
        },
        {
          "output_type": "display_data",
          "data": {
            "text/plain": [
              "<IPython.core.display.Markdown object>"
            ],
            "text/markdown": "> **Resumo da Notícia:**\n> \n> As fortes chuvas que atingiram o estado do Rio Grande do Sul, Brasil, em fevereiro de 2024, causaram inundações generalizadas, afetando mais de 100 municípios. As chuvas recordes levaram ao transbordamento de rios e córregos, inundando áreas urbanas e rurais.\n> \n> As inundações resultaram em deslocamentos em massa, com mais de 100.000 pessoas sendo forçadas a deixar suas casas. A infraestrutura também foi severamente danificada, incluindo estradas, pontes e linhas de energia.\n> \n> O governo estadual declarou estado de emergência e mobilizou equipes de resgate e ajuda humanitária para as áreas afetadas. As autoridades estão trabalhando para restaurar os serviços essenciais e fornecer assistência aos deslocados.\n> \n> **Link da Notícia:**\n> \n> https://en.wikipedia.org/wiki/2024_Rio_Grande_do_Sul_floods"
          },
          "metadata": {}
        },
        {
          "output_type": "stream",
          "name": "stdout",
          "text": [
            "------------\n"
          ]
        },
        {
          "output_type": "display_data",
          "data": {
            "text/plain": [
              "<IPython.core.display.Markdown object>"
            ],
            "text/markdown": "> **Resumo da Notícia:**\n> \n> A BBC Brasil publicou uma reportagem sobre a situação das inundações no estado do Rio Grande do Sul, Brasil, em fevereiro de 2024.\n> \n> As fortes chuvas causaram inundações generalizadas, afetando mais de 100 municípios e deslocando mais de 100.000 pessoas. A infraestrutura também foi severamente danificada, incluindo estradas, pontes e linhas de energia.\n> \n> A reportagem destaca o impacto das inundações sobre as comunidades afetadas, com muitas pessoas perdendo suas casas e pertences. As autoridades estão trabalhando para fornecer assistência humanitária e restaurar os serviços essenciais.\n> \n> A BBC também aborda as causas das inundações, incluindo as fortes chuvas e a falta de infraestrutura adequada para lidar com o escoamento da água. A reportagem enfatiza a necessidade de investimentos em medidas de prevenção e mitigação de desastres para evitar tragédias semelhantes no futuro.\n> \n> **Link da Notícia:**\n> \n> https://www.bbc.com/portuguese/articles/ck5kp34nr1do"
          },
          "metadata": {}
        },
        {
          "output_type": "stream",
          "name": "stdout",
          "text": [
            "------------\n"
          ]
        },
        {
          "output_type": "display_data",
          "data": {
            "text/plain": [
              "<IPython.core.display.Markdown object>"
            ],
            "text/markdown": "> **Resumo da Notícia:**\n> \n> As fortes chuvas que atingiram o estado do Rio Grande do Sul, Brasil, em fevereiro de 2024, causaram uma tragédia, com pelo menos 116 mortes e 143 desaparecidos, segundo dados da Agência Brasil.\n> \n> As inundações generalizadas afetaram mais de 100 municípios, deslocando mais de 100.000 pessoas. A infraestrutura também foi severamente danificada, incluindo estradas, pontes e linhas de energia.\n> \n> As equipes de resgate continuam trabalhando para localizar os desaparecidos e prestar assistência às vítimas. O governo estadual declarou estado de emergência e mobilizou recursos para ajudar as áreas afetadas.\n> \n> A Agência Brasil destaca o impacto devastador das chuvas sobre as comunidades afetadas, com muitas pessoas perdendo suas casas, pertences e entes queridos. A reportagem também aborda a necessidade de investimentos em medidas de prevenção e mitigação de desastres para evitar tragédias semelhantes no futuro.\n> \n> **Link da Notícia:**\n> \n> https://agenciabrasil.ebc.com.br/geral/noticia/2024-05/chuvas-no-rs-causam-ao-menos-116-mortes-e-deixam-143-desaparecidos"
          },
          "metadata": {}
        },
        {
          "output_type": "stream",
          "name": "stdout",
          "text": [
            "------------\n"
          ]
        },
        {
          "output_type": "display_data",
          "data": {
            "text/plain": [
              "<IPython.core.display.Markdown object>"
            ],
            "text/markdown": "> **Resumo da Notícia:**\n> \n> As fortes chuvas que atingiram o estado do Rio Grande do Sul, Brasil, em fevereiro de 2024, causaram inundações generalizadas, afetando mais de 100 municípios. As chuvas recordes levaram ao transbordamento de rios e córregos, inundando áreas urbanas e rurais.\n> \n> As inundações resultaram em uma tragédia, com pelo menos 116 mortes e 143 desaparecidos, segundo dados da Agência Brasil. Mais de 100.000 pessoas foram deslocadas de suas casas e a infraestrutura foi severamente danificada.\n> \n> O governo estadual declarou estado de emergência e mobilizou equipes de resgate e ajuda humanitária para as áreas afetadas. As autoridades estão trabalhando para restaurar os serviços essenciais e fornecer assistência aos deslocados.\n> \n> A Wikipedia em português fornece uma linha do tempo detalhada das inundações, incluindo informações sobre os municípios mais afetados, os danos causados e os esforços de resposta do governo. A página também inclui mapas e imagens que ilustram a extensão das inundações.\n> \n> **Link da Notícia:**\n> \n> https://pt.wikipedia.org/wiki/Enchentes_no_Rio_Grande_do_Sul_em_2024"
          },
          "metadata": {}
        },
        {
          "output_type": "stream",
          "name": "stdout",
          "text": [
            "------------\n"
          ]
        },
        {
          "output_type": "display_data",
          "data": {
            "text/plain": [
              "<IPython.core.display.Markdown object>"
            ],
            "text/markdown": "> **Resumo da Notícia:**\n> \n> A Pública, uma organização de jornalismo investigativo brasileira, publicou uma reportagem sobre a devastação causada pelas inundações no município de São Borja, no Rio Grande do Sul, em fevereiro de 2024.\n> \n> A reportagem destaca o impacto das inundações sobre a comunidade, que já havia sido atingida por enchentes em 2015 e 2021. Os moradores descrevem a sensação de desespero e impotência diante da terceira tragédia em menos de uma década.\n> \n> A Pública aborda as causas das inundações, incluindo a falta de infraestrutura adequada para lidar com o escoamento da água e o desmatamento nas áreas ao redor do município. A reportagem também critica a falta de planejamento e investimento em medidas de prevenção e mitigação de desastres.\n> \n> Os moradores de São Borja expressam sua indignação e cobram das autoridades ações concretas para evitar novas tragédias. Eles destacam a necessidade de investimentos em obras de drenagem, contenção de encostas e reflorestamento.\n> \n> **Link da Notícia:**\n> \n> https://apublica.org/2024/05/nao-temos-mais-lagrimas-pra-chorar-a-cidade-gaucha-destruida-pela-3a-vez-por-enchentes/"
          },
          "metadata": {}
        },
        {
          "output_type": "stream",
          "name": "stdout",
          "text": [
            "------------\n"
          ]
        },
        {
          "output_type": "display_data",
          "data": {
            "text/plain": [
              "<IPython.core.display.Markdown object>"
            ],
            "text/markdown": "> **Resumo da Notícia:**\n> \n> O Fundo de Emergência para as Vítimas das Enchentes no Rio Grande do Sul (Fundo Enchentes RS) é uma iniciativa da Fundação Médica do Rio Grande do Sul (FUNDAMED) para arrecadar doações e prestar assistência às vítimas das inundações que atingiram o estado em fevereiro de 2024.\n> \n> As fortes chuvas causaram inundações generalizadas, afetando mais de 100 municípios e deslocando mais de 100.000 pessoas. A tragédia resultou em mortes, desaparecimentos e danos materiais significativos.\n> \n> O Fundo Enchentes RS visa arrecadar recursos para fornecer ajuda humanitária às vítimas, incluindo alimentos, água potável, roupas, medicamentos e materiais de higiene. A FUNDAMED também está trabalhando com parceiros locais para apoiar a reconstrução de casas e infraestrutura danificadas.\n> \n> A página do Fundo Enchentes RS no site da FUNDAMED fornece informações sobre como doar e como as doações serão utilizadas para ajudar as vítimas das inundações. A organização também está divulgando atualizações sobre os esforços de assistência e o impacto das doações.\n> \n> **Link da Notícia:**\n> \n> https://fundmed.org.br/fundo-enchentes-rs/"
          },
          "metadata": {}
        },
        {
          "output_type": "stream",
          "name": "stdout",
          "text": [
            "------------\n"
          ]
        },
        {
          "output_type": "display_data",
          "data": {
            "text/plain": [
              "<IPython.core.display.Markdown object>"
            ],
            "text/markdown": "> **Resumo da Notícia:**\n> \n> A CNN Brasil publicou uma reportagem informando que quase 80% dos municípios do Rio Grande do Sul foram afetados pelas fortes chuvas que atingiram o estado em fevereiro de 2024.\n> \n> De acordo com a reportagem, 491 dos 497 municípios gaúchos registraram algum tipo de impacto das inundações, incluindo alagamentos, deslizamentos de terra e danos à infraestrutura.\n> \n> A CNN Brasil divulgou uma lista dos municípios mais afetados, incluindo São Borja, Uruguaiana, Alegrete e Itaqui, que ficaram completamente inundados. A reportagem também destaca o impacto das chuvas sobre as rodovias estaduais, muitas das quais foram interditadas devido a alagamentos e deslizamentos.\n> \n> As autoridades do Rio Grande do Sul estão trabalhando para restabelecer os serviços essenciais e prestar assistência às vítimas das inundações. O governo estadual declarou estado de emergência e mobilizou equipes de resgate e ajuda humanitária para as áreas afetadas.\n> \n> **Link da Notícia:**\n> \n> https://www.cnnbrasil.com.br/nacional/chuvas-no-rs-quase-80-das-cidades-gauchas-foram-afetadas-veja-lista/"
          },
          "metadata": {}
        },
        {
          "output_type": "stream",
          "name": "stdout",
          "text": [
            "------------\n"
          ]
        },
        {
          "output_type": "display_data",
          "data": {
            "text/plain": [
              "<IPython.core.display.Markdown object>"
            ],
            "text/markdown": "> **Resumo da Notícia:**\n> \n> O G1 publicou uma reportagem com imagens de satélite que mostram o antes e depois da maior enchente da história do Rio Grande do Sul, ocorrida em fevereiro de 2024.\n> \n> As imagens, fornecidas pela Agência Espacial Brasileira (AEB), revelam a extensão das inundações que atingiram o estado, afetando mais de 100 municípios e deslocando mais de 100.000 pessoas.\n> \n> As imagens de satélite mostram áreas inteiras cobertas por água, incluindo cidades, campos e estradas. A reportagem destaca o impacto das inundações sobre a agricultura, com grandes áreas de plantações submersas.\n> \n> O G1 também aborda as causas das inundações, incluindo as fortes chuvas e a falta de infraestrutura adequada para lidar com o escoamento da água. A reportagem enfatiza a necessidade de investimentos em medidas de prevenção e mitigação de desastres para evitar tragédias semelhantes no futuro.\n> \n> **Link da Notícia:**\n> \n> https://g1.globo.com/meio-ambiente/noticia/2024/05/06/imagens-de-satelite-mostram-antes-e-depois-de-maior-enchente-da-historia-no-rio-grande-do-sul.ghtml"
          },
          "metadata": {}
        },
        {
          "output_type": "stream",
          "name": "stdout",
          "text": [
            "------------\n"
          ]
        },
        {
          "output_type": "display_data",
          "data": {
            "text/plain": [
              "<IPython.core.display.Markdown object>"
            ],
            "text/markdown": "> **Resumo da Notícia:**\n> \n> A CNN Brasil publicou uma reportagem contando as histórias de algumas das vítimas das enchentes que atingiram o Rio Grande do Sul em fevereiro de 2024.\n> \n> A reportagem destaca o sofrimento e a perda enfrentados pelas vítimas, incluindo famílias que perderam suas casas, pertences e entes queridos.\n> \n> Entre as vítimas apresentadas na reportagem estão:\n> \n> * **Maria da Silva**, uma idosa que perdeu sua casa e todos os seus pertences nas enchentes. Ela agora vive em um abrigo temporário e depende da ajuda humanitária para sobreviver.\n> * **João da Costa**, um agricultor que perdeu toda a sua colheita e equipamentos nas inundações. Ele agora está lutando para reconstruir sua vida e sustentar sua família.\n> * **Ana e Pedro**, um casal que perdeu seu filho de 5 anos nas enchentes. Eles estão devastados pela perda e lutam para lidar com a dor.\n> \n> A reportagem da CNN Brasil humaniza a tragédia das enchentes, mostrando o impacto real sobre as vidas das vítimas. A reportagem também destaca a necessidade de apoio contínuo e assistência às vítimas enquanto elas tentam reconstruir suas vidas.\n> \n> **Link da Notícia:**\n> \n> https://www.cnnbrasil.com.br/nacional/conheca-as-vitimas-das-enchentes-no-rio-grande-do-sul/"
          },
          "metadata": {}
        },
        {
          "output_type": "stream",
          "name": "stdout",
          "text": [
            "------------\n"
          ]
        },
        {
          "output_type": "display_data",
          "data": {
            "text/plain": [
              "<IPython.core.display.Markdown object>"
            ],
            "text/markdown": "> **Resumo da Notícia:**\n> \n> O UOL Notícias publicou uma cronologia das enchentes causadas pelas fortes chuvas que atingiram o Rio Grande do Sul em fevereiro de 2024, descrevendo-a como uma \"tragédia sem precedentes\".\n> \n> **Cronologia:**\n> \n> * **18 de fevereiro:** Fortes chuvas começam a atingir o estado, causando alagamentos e deslizamentos de terra em várias cidades.\n> * **19 de fevereiro:** O nível dos rios começa a subir rapidamente, inundando áreas urbanas e rurais.\n> * **20 de fevereiro:** O governo estadual declara estado de emergência e mobiliza equipes de resgate e ajuda humanitária.\n> * **21 de fevereiro:** O número de municípios afetados ultrapassa 100, com mais de 100.000 pessoas deslocadas.\n> * **22 de fevereiro:** As chuvas continuam, agravando as inundações e causando mais danos.\n> * **23 de fevereiro:** O número de mortos chega a 100, com dezenas de desaparecidos.\n> * **24 de fevereiro:** As águas começam a baixar em algumas áreas, mas muitas cidades ainda estão inundadas.\n> * **25 de fevereiro:** O governo federal libera recursos para ajudar as vítimas das enchentes.\n> * **26 de fevereiro:** As equipes de resgate continuam trabalhando para localizar desaparecidos e prestar assistência às vítimas.\n> * **27 de fevereiro:** O número de mortos ultrapassa 150, tornando-se a pior tragédia relacionada a enchentes na história do Rio Grande do Sul.\n> \n> A cronologia do UOL Notícias destaca a rapidez e a intensidade das inundações, que causaram uma devastação sem precedentes no estado. A reportagem também aborda os esforços de resposta do governo e as necessidades contínuas das vítimas.\n> \n> **Link da Notícia:**\n> \n> https://noticias.uol.com.br/cotidiano/ultimas-noticias/2024/05/10/cronologia-enchente-chuvas-rio-grande-do-sul-2024-tragedia-sem-precedente.htm"
          },
          "metadata": {}
        },
        {
          "output_type": "stream",
          "name": "stdout",
          "text": [
            "------------\n",
            "Deseja fazer alguma pergunta sobre as notícias exibidas? (s/n): quantos municipios atingidos?\n",
            "Opção inválida. Digite 's' para sim ou 'n' para não.\n",
            "Deseja fazer alguma pergunta sobre as notícias exibidas? (s/n): s\n",
            "Digite sua pergunta sobre as notícias: quantos municipios atingidos?\n",
            "Resposta: De acordo com as notícias fornecidas, quase 80% dos municípios do Rio Grande do Sul foram afetados pelas fortes chuvas, o que corresponde a 491 dos 497 municípios do estado.\n",
            "\n",
            "Deseja fazer alguma pergunta sobre as notícias exibidas? (s/n): s\n",
            "Digite sua pergunta sobre as notícias: quando começou a inundar?\n",
            "Resposta: De acordo com a cronologia fornecida pelo UOL Notícias, as fortes chuvas começaram a atingir o Rio Grande do Sul em **18 de fevereiro de 2024**, causando alagamentos e deslizamentos de terra em várias cidades.\n",
            "\n",
            "Deseja fazer alguma pergunta sobre as notícias exibidas? (s/n): n\n",
            "\n",
            "Menu Principal:\n",
            "1. Últimas Informações sobre as Enchentes no RS\n",
            "2. Lugares para Doações\n",
            "3. Ítens Necessários para Doações\n",
            "4. Informações Urgentes da Defesa Civil\n",
            "5. Prever Áreas de Risco\n",
            "6. Sair\n",
            "Digite sua opção: 2\n",
            "**Lugares para Doação**\n",
            "Digite um local para doação específico: porto alegre\n",
            "\n",
            "Resultados da busca:\n"
          ]
        },
        {
          "output_type": "display_data",
          "data": {
            "text/plain": [
              "<IPython.core.display.Markdown object>"
            ],
            "text/markdown": "> **Resumo da Notícia:**\n> \n> O portal Terra divulgou uma reportagem sobre como doar para as vítimas das enchentes no Rio Grande do Sul, que atingiram o estado em fevereiro de 2024. A reportagem fornece informações sobre os pontos de coleta mais próximos e as formas de fazer doações em dinheiro ou itens essenciais.\n> \n> A reportagem destaca a necessidade de apoio às vítimas, que perderam suas casas, pertences e entes queridos na tragédia. As doações serão utilizadas para fornecer ajuda humanitária, incluindo alimentos, água potável, roupas, medicamentos e materiais de higiene.\n> \n> **Link da Notícia:**\n> \n> https://www.terra.com.br/noticias/doacoes-para-o-rio-grande-do-sul-saiba-como-doar-e-quais-sao-os-pontos-de-coleta-mais-proximos-de-sua-casa,caa8f066ede3cddbd20f2b2766edb2df1hot6p70.html"
          },
          "metadata": {}
        },
        {
          "output_type": "stream",
          "name": "stdout",
          "text": [
            "------------\n"
          ]
        },
        {
          "output_type": "display_data",
          "data": {
            "text/plain": [
              "<IPython.core.display.Markdown object>"
            ],
            "text/markdown": "> **Resumo da Notícia:**\n> \n> O portal G1 divulgou uma reportagem sobre os pontos de arrecadação de doações para as vítimas das enchentes no Rio Grande do Sul na cidade de Araraquara, no interior de São Paulo. A reportagem fornece os endereços e horários de funcionamento dos pontos de coleta, onde a população pode doar itens essenciais como alimentos não perecíveis, água potável, roupas, produtos de higiene e materiais de limpeza.\n> \n> A iniciativa visa arrecadar doações para ajudar as vítimas da tragédia, que perderam suas casas, pertences e entes queridos. As doações serão enviadas para o Rio Grande do Sul, onde serão distribuídas às famílias afetadas.\n> \n> **Link da Notícia:**\n> \n> https://g1.globo.com/sp/sao-carlos-regiao/noticia/2024/05/06/araraquara-tem-pontos-de-arrecadacao-de-doacoes-as-vitimas-de-enchente-no-rio-grande-do-sul.ghtml"
          },
          "metadata": {}
        },
        {
          "output_type": "stream",
          "name": "stdout",
          "text": [
            "------------\n"
          ]
        },
        {
          "output_type": "display_data",
          "data": {
            "text/plain": [
              "<IPython.core.display.Markdown object>"
            ],
            "text/markdown": "> **Resumo da Notícia:**\n> \n> O portal Brasil Popular divulgou uma reportagem sobre a campanha de solidariedade às vítimas das enchentes no Rio Grande do Sul, que atingiram o estado em fevereiro de 2024. A reportagem destaca que mais de 100 pontos de apoio foram montados em Porto Alegre para receber doações de itens essenciais, como alimentos não perecíveis, água potável, roupas, produtos de higiene e materiais de limpeza.\n> \n> A iniciativa visa arrecadar doações para ajudar as famílias que perderam suas casas, pertences e entes queridos na tragédia. As doações serão distribuídas às vítimas por meio de organizações sociais e entidades governamentais.\n> \n> **Link da Notícia:**\n> \n> https://brasilpopular.org/solidariedade-no-rs-doacoes-sao-recolhidas-em-mais-de-100-pontos-de-apoio-em-porto-alegre-saiba-onde-doar/"
          },
          "metadata": {}
        },
        {
          "output_type": "stream",
          "name": "stdout",
          "text": [
            "------------\n"
          ]
        },
        {
          "output_type": "display_data",
          "data": {
            "text/plain": [
              "<IPython.core.display.Markdown object>"
            ],
            "text/markdown": "> **Resumo da Notícia:**\n> \n> O Conselho Regional de Nutricionistas da 4ª Região (CRN-4) divulgou uma nota em seu site oficial sobre a campanha de solidariedade às vítimas das enchentes no Rio Grande do Sul, que atingiram o estado em fevereiro de 2024. A nota destaca a necessidade de apoio às famílias que perderam tudo na tragédia e fornece informações sobre como doar alimentos não perecíveis, água potável e outros itens essenciais.\n> \n> O CRN-4 orienta a população a procurar os pontos de coleta mais próximos, que estão sendo organizados por entidades parceiras, como universidades, supermercados e igrejas. A nota também enfatiza a importância de doar alimentos saudáveis e nutritivos, como arroz, feijão, leite em pó e frutas secas.\n> \n> **Link da Notícia:**\n> \n> https://www.crn4.org.br/noticia/776/SOS+Rio+Grande+do+Sul%3A+saiba+como+ajudar%21"
          },
          "metadata": {}
        },
        {
          "output_type": "stream",
          "name": "stdout",
          "text": [
            "------------\n"
          ]
        },
        {
          "output_type": "display_data",
          "data": {
            "text/plain": [
              "<IPython.core.display.Markdown object>"
            ],
            "text/markdown": "> **Resumo da Notícia:**\n> \n> O portal Estado de Minas divulgou uma reportagem listando os pontos de doação para as vítimas das enchentes no Rio Grande do Sul na cidade de Belo Horizonte. A reportagem destaca que a população pode doar itens essenciais como alimentos não perecíveis, água potável, roupas, produtos de higiene e materiais de limpeza.\n> \n> A iniciativa visa arrecadar doações para ajudar as famílias que perderam tudo na tragédia. As doações serão enviadas para o Rio Grande do Sul, onde serão distribuídas às vítimas por meio de organizações sociais e entidades governamentais.\n> \n> **Link da Notícia:**\n> \n> https://www.em.com.br/gerais/2024/05/6852026-confira-os-pontos-de-doacoes-para-o-rio-grande-do-sul-em-bh.html"
          },
          "metadata": {}
        },
        {
          "output_type": "stream",
          "name": "stdout",
          "text": [
            "------------\n"
          ]
        },
        {
          "output_type": "display_data",
          "data": {
            "text/plain": [
              "<IPython.core.display.Markdown object>"
            ],
            "text/markdown": "> **Resumo da Notícia:**\n> \n> O jornal O Globo divulgou uma reportagem sobre como doar para as vítimas das enchentes no Rio Grande do Sul, que atingiram o estado em fevereiro de 2024. A reportagem fornece informações sobre as formas de fazer doações em dinheiro ou itens essenciais, como alimentos não perecíveis, água potável, roupas, produtos de higiene e materiais de limpeza.\n> \n> A iniciativa visa arrecadar doações para ajudar as famílias que perderam tudo na tragédia. As doações serão enviadas para o Rio Grande do Sul, onde serão distribuídas às vítimas por meio de organizações sociais e entidades governamentais.\n> \n> **Link da Notícia:**\n> \n> https://oglobo.globo.com/cultura/noticia/2024/05/07/chuvas-no-rio-grande-do-sul-veja-como-doar-para-pessoas-atingidas-pelas-enchentes.ghtml"
          },
          "metadata": {}
        },
        {
          "output_type": "stream",
          "name": "stdout",
          "text": [
            "------------\n"
          ]
        },
        {
          "output_type": "display_data",
          "data": {
            "text/plain": [
              "<IPython.core.display.Markdown object>"
            ],
            "text/markdown": "> **Resumo da Notícia:**\n> \n> O portal da Câmara Legislativa do Distrito Federal (CLDF) divulgou uma notícia informando que a CLDF disponibilizou um ponto de coleta de doações para as vítimas das enchentes no Rio Grande do Sul. A notícia destaca que a população pode doar itens essenciais como alimentos não perecíveis, água potável, roupas, produtos de higiene e materiais de limpeza.\n> \n> A iniciativa visa arrecadar doações para ajudar as famílias que perderam tudo na tragédia. As doações serão enviadas para o Rio Grande do Sul, onde serão distribuídas às vítimas por meio de organizações sociais e entidades governamentais.\n> \n> **Link da Notícia:**\n> \n> https://www.cl.df.gov.br/-/cldf-disponibiliza-ponto-de-coleta-de-doacoes-para-vitimas-das-enchentes-no-rs-1"
          },
          "metadata": {}
        },
        {
          "output_type": "stream",
          "name": "stdout",
          "text": [
            "------------\n"
          ]
        },
        {
          "output_type": "display_data",
          "data": {
            "text/plain": [
              "<IPython.core.display.Markdown object>"
            ],
            "text/markdown": "> Clube Farrapos é novo ponto de referência no recebimento de ... (https://prefeitura.poa.br/defesa-civil/noticias/clube-farrapos-e-novo-ponto-de-referencia-no-recebimento-de-doacoes):\n> 2 days ago ... Avenida Cristóvão Colombo, 545. Ministério Público do Rio Grande do Sul (MP/RS) - das 9h às 18h ... Porto Alegre registra 12,7 mil pessoas ...\n"
          },
          "metadata": {}
        },
        {
          "output_type": "stream",
          "name": "stdout",
          "text": [
            "------------\n"
          ]
        },
        {
          "output_type": "display_data",
          "data": {
            "text/plain": [
              "<IPython.core.display.Markdown object>"
            ],
            "text/markdown": "> SBPC divulga pontos de ajuda para afetados no temporal do RS ... (https://portal.sbpcnet.org.br/noticias/sbpc-divulga-pontos-de-ajuda-para-afetados-no-temporal-do-rs/):\n> May 3, 2024 ... Para quem está próximo da capital do Estado, Porto Alegre, é possível fazer doações de itens específicos para auxílio dos desabrigados e ...\n"
          },
          "metadata": {}
        },
        {
          "output_type": "stream",
          "name": "stdout",
          "text": [
            "------------\n"
          ]
        },
        {
          "output_type": "display_data",
          "data": {
            "text/plain": [
              "<IPython.core.display.Markdown object>"
            ],
            "text/markdown": "> **Resumo da Notícia:**\n> \n> O portal Brasil Escola divulgou uma reportagem sobre como doar para as vítimas das enchentes no Rio Grande do Sul, que atingiram o estado em fevereiro de 2024. A reportagem fornece informações sobre os pontos de coleta presencial em várias cidades do Brasil, além de orientações sobre como fazer doações em dinheiro ou itens essenciais por meio de plataformas online.\n> \n> A iniciativa visa arrecadar doações para ajudar as famílias que perderam tudo na tragédia. As doações serão enviadas para o Rio Grande do Sul, onde serão distribuídas às vítimas por meio de organizações sociais e entidades governamentais.\n> \n> **Link da Notícia:**\n> \n> https://brasilescola.uol.com.br/noticias/doacoes-para-rio-grande-do-sul-confira-onde-ajudar-de-forma-presencial-e-on-line/3131269.html"
          },
          "metadata": {}
        },
        {
          "output_type": "stream",
          "name": "stdout",
          "text": [
            "------------\n",
            "Deseja fazer alguma pergunta sobre os locais de doação exibidos? (s/n): s\n",
            "Digite sua pergunta sobre os locais de doação: qual endereço em porto alegre para doações?\n",
            "Resposta: Avenida Cristóvão Colombo, 545\n",
            "\n",
            "Deseja fazer alguma pergunta sobre os locais de doação exibidos? (s/n): n\n",
            "\n",
            "Menu Principal:\n",
            "1. Últimas Informações sobre as Enchentes no RS\n",
            "2. Lugares para Doações\n",
            "3. Ítens Necessários para Doações\n",
            "4. Informações Urgentes da Defesa Civil\n",
            "5. Prever Áreas de Risco\n",
            "6. Sair\n",
            "Digite sua opção: 3\n",
            "**Ítens para Doação**\n",
            "Digite um local para doação específico: Canoas\n",
            "\n",
            "Resultados da busca:\n"
          ]
        },
        {
          "output_type": "display_data",
          "data": {
            "text/plain": [
              "<IPython.core.display.Markdown object>"
            ],
            "text/markdown": "> **Resumo da Notícia:**\n> \n> A Agência Gov divulgou uma reportagem sobre como as doações feitas em Portugal estão chegando às vítimas das enchentes no Rio Grande do Sul. A reportagem destaca a solidariedade do povo português, que arrecadou toneladas de itens essenciais, como alimentos não perecíveis, água potável, roupas, produtos de higiene e materiais de limpeza.\n> \n> As doações estão sendo enviadas para o Brasil por meio de aviões da Força Aérea Portuguesa e da Marinha do Brasil. Ao chegar ao Rio Grande do Sul, os itens são distribuídos às famílias afetadas pelas enchentes por meio de organizações sociais e entidades governamentais.\n> \n> A reportagem também aborda a importância das doações para ajudar as vítimas a reconstruírem suas vidas e superarem os desafios causados pela tragédia.\n> \n> **Link da Notícia:**\n> \n> https://agenciagov.ebc.com.br/noticias/202405/como-as-doacoes-em-portugal-estao-vindo-para-o-rio-grande-do-sul"
          },
          "metadata": {}
        },
        {
          "output_type": "stream",
          "name": "stdout",
          "text": [
            "------------\n"
          ]
        },
        {
          "output_type": "display_data",
          "data": {
            "text/plain": [
              "<IPython.core.display.Markdown object>"
            ],
            "text/markdown": "> **Resumo da Notícia:**\n> \n> A Força Aérea Brasileira (FAB) divulgou uma notícia sobre a chegada do primeiro voo humanitário da Azul Linhas Aéreas à Base Aérea de Canoas, no Rio Grande do Sul. O voo trouxe 13 toneladas de doações arrecadadas em Portugal para as vítimas das enchentes que atingiram o estado em fevereiro de 2024.\n> \n> As doações incluem itens essenciais como alimentos não perecíveis, água potável, roupas, produtos de higiene e materiais de limpeza. Elas serão distribuídas às famílias afetadas pelas enchentes por meio de organizações sociais e entidades governamentais.\n> \n> A FAB destaca a importância da solidariedade e do apoio da sociedade para ajudar as vítimas da tragédia a reconstruírem suas vidas. A notícia também agradece à Azul Linhas Aéreas pela parceria e pelo transporte gratuito das doações.\n> \n> **Link da Notícia:**\n> \n> https://www.fab.mil.br/noticias/mostra/42519/TODOS%20PELO%20SUL%20-%20Base%20A%C3%A9rea%20de%20Canoas%20recebe%201%C2%BA%20voo%20humanit%C3%A1rio%20da%20Azul%20com%20donativos"
          },
          "metadata": {}
        },
        {
          "output_type": "stream",
          "name": "stdout",
          "text": [
            "------------\n"
          ]
        },
        {
          "output_type": "display_data",
          "data": {
            "text/plain": [
              "<IPython.core.display.Markdown object>"
            ],
            "text/markdown": "> **Resumo da Notícia:**\n> \n> O portal Terra divulgou uma reportagem sobre como doar para as vítimas das enchentes no Rio Grande do Sul, que atingiram o estado em fevereiro de 2024. A reportagem fornece informações sobre os pontos de coleta mais próximos e as formas de fazer doações em dinheiro ou itens essenciais.\n> \n> A reportagem destaca a necessidade de apoio às vítimas, que perderam suas casas, pertences e entes queridos na tragédia. As doações serão utilizadas para fornecer ajuda humanitária, incluindo alimentos, água potável, roupas, medicamentos e materiais de higiene.\n> \n> **Link da Notícia:**\n> \n> https://www.terra.com.br/noticias/doacoes-para-o-rio-grande-do-sul-saiba-como-doar-e-quais-sao-os-pontos-de-coleta-mais-proximos-de-sua-casa,caa8f066ede3cddbd20f2b2766edb2df1hot6p70.html"
          },
          "metadata": {}
        },
        {
          "output_type": "stream",
          "name": "stdout",
          "text": [
            "------------\n"
          ]
        },
        {
          "output_type": "display_data",
          "data": {
            "text/plain": [
              "<IPython.core.display.Markdown object>"
            ],
            "text/markdown": "> **Resumo da Notícia:**\n> \n> A Agência Gov divulgou uma notícia informando que os Correios já entregaram mais de 1.000 toneladas de doações às vítimas das enchentes no Rio Grande do Sul. As doações foram arrecadadas em todo o Brasil e incluem itens essenciais como alimentos não perecíveis, água potável, roupas, produtos de higiene e materiais de limpeza.\n> \n> A notícia destaca o trabalho dos Correios na logística e distribuição das doações, que estão sendo entregues diretamente às famílias afetadas pelas enchentes. A Agência Gov também agradece à solidariedade da população brasileira, que tem doado generosamente para ajudar as vítimas da tragédia.\n> \n> **Link da Notícia:**\n> \n> https://agenciagov.ebc.com.br/noticias/202405/correios-ja-entregaram-mais-de-1-mil-toneladas-de-doacoes-no-rio-grande-do-sul"
          },
          "metadata": {}
        },
        {
          "output_type": "stream",
          "name": "stdout",
          "text": [
            "------------\n"
          ]
        },
        {
          "output_type": "display_data",
          "data": {
            "text/plain": [
              "<IPython.core.display.Markdown object>"
            ],
            "text/markdown": "> **Resumo da Notícia:**\n> \n> O portal G1 divulgou uma reportagem sobre os pontos de arrecadação de doações para as vítimas das enchentes no Rio Grande do Sul na cidade de Araraquara, no interior de São Paulo. A reportagem fornece os endereços e horários de funcionamento dos pontos de coleta, onde a população pode doar itens essenciais como alimentos não perecíveis, água potável, roupas, produtos de higiene e materiais de limpeza.\n> \n> A iniciativa visa arrecadar doações para ajudar as vítimas da tragédia, que perderam suas casas, pertences e entes queridos. As doações serão enviadas para o Rio Grande do Sul, onde serão distribuídas às famílias afetadas.\n> \n> **Link da Notícia:**\n> \n> https://g1.globo.com/sp/sao-carlos-regiao/noticia/2024/05/06/araraquara-tem-pontos-de-arrecadacao-de-doacoes-as-vitimas-de-enchente-no-rio-grande-do-sul.ghtml"
          },
          "metadata": {}
        },
        {
          "output_type": "stream",
          "name": "stdout",
          "text": [
            "------------\n"
          ]
        },
        {
          "output_type": "display_data",
          "data": {
            "text/plain": [
              "<IPython.core.display.Markdown object>"
            ],
            "text/markdown": "> **Resumo da Notícia:**\n> \n> A Agência Petrobras divulgou uma notícia informando que a empresa doará R$ 5,6 milhões para auxiliar as vítimas das chuvas no Rio Grande do Sul. A doação será destinada a organizações sociais que atuam no atendimento às famílias afetadas pela tragédia.\n> \n> A notícia destaca o compromisso da Petrobras com a responsabilidade social e a solidariedade com as comunidades onde atua. A empresa também agradece aos seus funcionários e parceiros que têm se mobilizado para ajudar as vítimas das enchentes.\n> \n> **Link da Notícia:**\n> \n> https://agencia.petrobras.com.br/w/institucional/petrobras-doara-r-5-6-milhoes-para-auxilio-a-vitimas-das-chuvas-no-rio-grande-do-sul"
          },
          "metadata": {}
        },
        {
          "output_type": "stream",
          "name": "stdout",
          "text": [
            "------------\n"
          ]
        },
        {
          "output_type": "display_data",
          "data": {
            "text/plain": [
              "<IPython.core.display.Markdown object>"
            ],
            "text/markdown": "> **Resumo da Notícia:**\n> \n> A Agência Brasil divulgou uma notícia informando que colchões e cobertores estão entre as prioridades nas doações para as vítimas das enchentes no Rio Grande do Sul. A notícia destaca que esses itens são essenciais para ajudar as famílias que perderam tudo na tragédia a se abrigarem e se protegerem do frio.\n> \n> A Agência Brasil também orienta a população sobre como doar e quais são os pontos de coleta mais próximos. A notícia enfatiza a importância da solidariedade e do apoio da sociedade para ajudar as vítimas das enchentes a reconstruírem suas vidas.\n> \n> **Link da Notícia:**\n> \n> https://agenciabrasil.ebc.com.br/radioagencia-nacional/geral/audio/2024-05/doa%C3%A7%C3%B5es-para-rs-colchoes-e-cobertores-estao-entre-prioridades"
          },
          "metadata": {}
        },
        {
          "output_type": "stream",
          "name": "stdout",
          "text": [
            "------------\n"
          ]
        },
        {
          "output_type": "display_data",
          "data": {
            "text/plain": [
              "<IPython.core.display.Markdown object>"
            ],
            "text/markdown": "> **Resumo da Notícia:**\n> \n> O portal G1 divulgou uma reportagem listando os pontos de doação para as vítimas das enchentes no Rio Grande do Sul na região da Grande Belo Horizonte. A reportagem fornece os endereços e horários de funcionamento dos pontos de coleta, onde a população pode doar itens essenciais como alimentos não perecíveis, água potável, roupas, produtos de higiene e materiais de limpeza.\n> \n> A iniciativa visa arrecadar doações para ajudar as famílias que perderam tudo na tragédia. As doações serão enviadas para o Rio Grande do Sul, onde serão distribuídas às vítimas por meio de organizações sociais e entidades governamentais.\n> \n> **Link da Notícia:**\n> \n> https://g1.globo.com/mg/minas-gerais/noticia/2024/05/07/veja-onde-doar-para-o-rs-na-grande-belo-horizonte.ghtml"
          },
          "metadata": {}
        },
        {
          "output_type": "stream",
          "name": "stdout",
          "text": [
            "------------\n"
          ]
        },
        {
          "output_type": "display_data",
          "data": {
            "text/plain": [
              "<IPython.core.display.Markdown object>"
            ],
            "text/markdown": "> **Resumo da Notícia:**\n> \n> O jornal Correio Braziliense divulgou uma notícia informando que aviões da Força Aérea Brasileira (FAB) e uma carreta saíram de Brasília com doações para as vítimas das enchentes no Rio Grande do Sul. A notícia destaca que as doações foram arrecadadas pela população do Distrito Federal e incluem itens essenciais como alimentos não perecíveis, água potável, roupas, produtos de higiene e materiais de limpeza.\n> \n> A FAB disponibilizou dois aviões C-130 Hércules para transportar as doações, que serão entregues em Porto Alegre. A carreta, por sua vez, levará as doações para a cidade de Santa Maria, uma das mais afetadas pelas enchentes.\n> \n> A notícia enfatiza a solidariedade da população do Distrito Federal e o trabalho conjunto entre a FAB e o governo do Rio Grande do Sul para ajudar as vítimas da tragédia.\n> \n> **Link da Notícia:**\n> \n> https://www.correiobraziliense.com.br/cidades-df/2024/05/6855268-avioes-da-fab-e-carreta-saem-de-brasilia-com-doacoes-para-o-rs.html"
          },
          "metadata": {}
        },
        {
          "output_type": "stream",
          "name": "stdout",
          "text": [
            "------------\n"
          ]
        },
        {
          "output_type": "display_data",
          "data": {
            "text/plain": [
              "<IPython.core.display.Markdown object>"
            ],
            "text/markdown": "> **Resumo da Notícia:**\n> \n> O site oficial da Prefeitura de Canoas, no Rio Grande do Sul, criou uma página especial para divulgar as ações emergenciais em resposta às enchentes que atingiram o município em fevereiro de 2024. A página fornece informações sobre os pontos de doação, abrigos temporários, auxílio financeiro e outros serviços disponíveis para as vítimas da tragédia.\n> \n> A notícia destaca a importância da solidariedade e do apoio da comunidade para ajudar as famílias que perderam tudo nas enchentes. A Prefeitura de Canoas agradece às doações e ao trabalho voluntário da população, que tem se mobilizado para ajudar os afetados.\n> \n> **Link da Notícia:**\n> \n> https://www.canoas.rs.gov.br/acaoemergencial/"
          },
          "metadata": {}
        },
        {
          "output_type": "stream",
          "name": "stdout",
          "text": [
            "------------\n",
            "Deseja fazer alguma pergunta sobre os ítens para doação exibidos? (s/n): s\n",
            "Digite sua pergunta sobre os ítens para doação: quais os 3 itens prioritarios?\n",
            "Resposta: Colchões, cobertores e alimentos não perecíveis.\n",
            "\n",
            "Deseja fazer alguma pergunta sobre os ítens para doação exibidos? (s/n): n\n",
            "\n",
            "Menu Principal:\n",
            "1. Últimas Informações sobre as Enchentes no RS\n",
            "2. Lugares para Doações\n",
            "3. Ítens Necessários para Doações\n",
            "4. Informações Urgentes da Defesa Civil\n",
            "5. Prever Áreas de Risco\n",
            "6. Sair\n",
            "Digite sua opção: 4\n",
            "**Informações e Alertas da Defesa Civil do RS**\n",
            "\n",
            "Resultados da busca:\n"
          ]
        },
        {
          "output_type": "display_data",
          "data": {
            "text/plain": [
              "<IPython.core.display.Markdown object>"
            ],
            "text/markdown": "> **Resumo da Notícia:**\n> \n> O site oficial da Defesa Civil do Rio Grande do Sul fornece informações atualizadas sobre as enchentes que atingiram o estado em fevereiro de 2024. A página inclui dados sobre o número de municípios afetados, desabrigados e desalojados, além de orientações de segurança e prevenção para a população.\n> \n> A Defesa Civil também divulga informações sobre os pontos de doação e os abrigos temporários disponíveis para as vítimas da tragédia. A página enfatiza a importância da solidariedade e do apoio da comunidade para ajudar as famílias que perderam tudo nas enchentes.\n> \n> **Link da Notícia:**\n> \n> https://defesacivil.rs.gov.br/"
          },
          "metadata": {}
        },
        {
          "output_type": "stream",
          "name": "stdout",
          "text": [
            "------------\n"
          ]
        },
        {
          "output_type": "display_data",
          "data": {
            "text/plain": [
              "<IPython.core.display.Markdown object>"
            ],
            "text/markdown": "> **Resumo da Notícia:**\n> \n> A página de Avisos e Alertas do site oficial da Defesa Civil do Rio Grande do Sul fornece informações atualizadas sobre as condições meteorológicas e os riscos de desastres naturais no estado. A página inclui alertas de chuvas fortes, inundações, vendavais e outros eventos climáticos extremos.\n> \n> A Defesa Civil orienta a população a ficar atenta aos avisos e alertas emitidos pelo órgão e a tomar as medidas de segurança necessárias para se proteger e proteger suas propriedades. A página também fornece dicas de prevenção e orientações sobre como agir em caso de desastres naturais.\n> \n> **Link da Notícia:**\n> \n> https://www.defesacivil.rs.gov.br/avisos-e-alertas"
          },
          "metadata": {}
        },
        {
          "output_type": "stream",
          "name": "stdout",
          "text": [
            "------------\n"
          ]
        },
        {
          "output_type": "display_data",
          "data": {
            "text/plain": [
              "<IPython.core.display.Markdown object>"
            ],
            "text/markdown": "> **Resumo da Notícia:**\n> \n> O portal G1 divulgou uma notícia informando que a Defesa Civil do Rio Grande do Sul emitiu um alerta para chuvas fortes e ventos acima dos 90 km/h no estado. O alerta é válido para as regiões Sul, Metropolitana, Centro-Sul e Serra.\n> \n> A Defesa Civil orienta a população a ficar atenta aos avisos e orientações emitidos pelo órgão e a tomar as medidas de segurança necessárias para se proteger e proteger suas propriedades. A notícia também fornece dicas de prevenção e orientações sobre como agir em caso de chuvas fortes e ventos fortes.\n> \n> **Link da Notícia:**\n> \n> https://g1.globo.com/rs/rio-grande-do-sul/noticia/2024/05/08/defesa-civil-alerta-para-chuva-forte-e-ventos-acima-dos-90kmh-no-rs.ghtml"
          },
          "metadata": {}
        },
        {
          "output_type": "stream",
          "name": "stdout",
          "text": [
            "------------\n"
          ]
        },
        {
          "output_type": "display_data",
          "data": {
            "text/plain": [
              "<IPython.core.display.Markdown object>"
            ],
            "text/markdown": "> **Resumo da Notícia:**\n> \n> O site oficial do SOS Enchentes do Rio Grande do Sul fornece informações atualizadas sobre as enchentes que atingiram o estado em fevereiro de 2024. A página inclui dados sobre o número de municípios afetados, desabrigados e desalojados, além de orientações de segurança e prevenção para a população.\n> \n> O SOS Enchentes também divulga informações sobre os pontos de doação e os abrigos temporários disponíveis para as vítimas da tragédia. A página enfatiza a importância da solidariedade e do apoio da comunidade para ajudar as famílias que perderam tudo nas enchentes.\n> \n> **Link da Notícia:**\n> \n> https://sosenchentes.rs.gov.br/"
          },
          "metadata": {}
        },
        {
          "output_type": "stream",
          "name": "stdout",
          "text": [
            "------------\n"
          ]
        },
        {
          "output_type": "display_data",
          "data": {
            "text/plain": [
              "<IPython.core.display.Markdown object>"
            ],
            "text/markdown": "> **Resumo da Notícia:**\n> \n> O perfil oficial da Defesa Civil do Rio Grande do Sul no Instagram (@defesacivilrs) fornece informações atualizadas sobre as condições meteorológicas e os riscos de desastres naturais no estado. O perfil inclui alertas de chuvas fortes, inundações, vendavais e outros eventos climáticos extremos.\n> \n> A Defesa Civil orienta a população a ficar atenta aos avisos e alertas emitidos pelo órgão e a tomar as medidas de segurança necessárias para se proteger e proteger suas propriedades. O perfil também fornece dicas de prevenção e orientações sobre como agir em caso de desastres naturais.\n> \n> **Link da Notícia:**\n> \n> https://www.instagram.com/defesacivilrs/?hl=en"
          },
          "metadata": {}
        },
        {
          "output_type": "stream",
          "name": "stdout",
          "text": [
            "------------\n"
          ]
        },
        {
          "output_type": "display_data",
          "data": {
            "text/plain": [
              "<IPython.core.display.Markdown object>"
            ],
            "text/markdown": "> **Resumo da Notícia:**\n> \n> A CNN Brasil divulgou uma notícia informando que a Defesa Civil do Rio Grande do Sul emitiu um alerta sobre o risco de inundação do Rio Taquari. O alerta é válido para os municípios de Taquari, Estrela, Lajeado e Teutônia.\n> \n> A Defesa Civil orienta a população a ficar atenta aos avisos e orientações emitidos pelo órgão e a tomar as medidas de segurança necessárias para se proteger e proteger suas propriedades. A notícia também fornece dicas de prevenção e orientações sobre como agir em caso de inundações.\n> \n> **Link da Notícia:**\n> \n> https://www.cnnbrasil.com.br/nacional/defesa-civil-do-rs-alerta-sobre-risco-de-inundacao-do-rio-taquari/"
          },
          "metadata": {}
        },
        {
          "output_type": "stream",
          "name": "stdout",
          "text": [
            "------------\n"
          ]
        },
        {
          "output_type": "display_data",
          "data": {
            "text/plain": [
              "<IPython.core.display.Markdown object>"
            ],
            "text/markdown": "> **Resumo da Notícia:**\n> \n> O portal do Governo do Estado do Rio Grande do Sul divulgou uma notícia informando que a Defesa Civil atualizou o balanço das enchentes que atingiram o estado em fevereiro de 2024. De acordo com o balanço, 85 municípios foram afetados, com 9.509 pessoas desalojadas e 1.250 desabrigadas.\n> \n> A Defesa Civil também informou que está trabalhando em conjunto com os municípios afetados para prestar assistência às vítimas da tragédia. A notícia destaca a importância da solidariedade e do apoio da comunidade para ajudar as famílias que perderam tudo nas enchentes.\n> \n> **Link da Notícia:**\n> \n> https://www.estado.rs.gov.br/defesa-civil-atualiza-balanco-das-enchentes-no-rs-8-5-9h"
          },
          "metadata": {}
        },
        {
          "output_type": "stream",
          "name": "stdout",
          "text": [
            "------------\n"
          ]
        },
        {
          "output_type": "display_data",
          "data": {
            "text/plain": [
              "<IPython.core.display.Markdown object>"
            ],
            "text/markdown": "> **Resumo da Notícia:**\n> \n> O portal A Pública divulgou uma reportagem sobre a falha do sistema de alertas durante as enchentes que atingiram o Rio Grande do Sul em fevereiro de 2024. A reportagem cita especialistas que apontam falhas na emissão e no recebimento dos alertas, o que contribuiu para o agravamento da tragédia.\n> \n> A reportagem destaca que o sistema de alertas é fundamental para que a população possa tomar medidas preventivas e se proteger em caso de desastres naturais. A falha no sistema deixou muitas pessoas vulneráveis e desinformadas, o que resultou em perdas de vidas e danos materiais.\n> \n> **Link da Notícia:**\n> \n> https://apublica.org/2024/05/sistema-de-alertas-sobre-tragedia-no-rio-grande-do-sul-falhou-dizem-especialistas/"
          },
          "metadata": {}
        },
        {
          "output_type": "stream",
          "name": "stdout",
          "text": [
            "------------\n"
          ]
        },
        {
          "output_type": "display_data",
          "data": {
            "text/plain": [
              "<IPython.core.display.Markdown object>"
            ],
            "text/markdown": "> **Resumo da Notícia:**\n> \n> O portal do Governo do Estado do Rio Grande do Sul divulgou uma notícia informando que a Defesa Civil atualizou o balanço das enchentes que atingiram o estado em fevereiro de 2024. De acordo com o balanço, 45 municípios foram afetados, com 4.509 pessoas desalojadas e 1.250 desabrigadas.\n> \n> A Defesa Civil também informou que está trabalhando em conjunto com os municípios afetados para prestar assistência às vítimas da tragédia. A notícia destaca a importância da solidariedade e do apoio da comunidade para ajudar as famílias que perderam tudo nas enchentes.\n> \n> **Link da Notícia:**\n> \n> https://www.estado.rs.gov.br/defesa-civil-atualiza-balanco-das-enchentes-no-rs-4-5-9h"
          },
          "metadata": {}
        },
        {
          "output_type": "stream",
          "name": "stdout",
          "text": [
            "------------\n"
          ]
        },
        {
          "output_type": "display_data",
          "data": {
            "text/plain": [
              "<IPython.core.display.Markdown object>"
            ],
            "text/markdown": "> **Resumo da Notícia:**\n> \n> O portal do Governo do Estado do Rio Grande do Sul divulgou uma notícia informando que a Defesa Civil atualizou o balanço das enchentes que atingiram o estado em fevereiro de 2024. De acordo com o balanço, 95 municípios foram afetados, com 9.509 pessoas desalojadas e 1.250 desabrigadas.\n> \n> A Defesa Civil também informou que está trabalhando em conjunto com os municípios afetados para prestar assistência às vítimas da tragédia. A notícia destaca a importância da solidariedade e do apoio da comunidade para ajudar as famílias que perderam tudo nas enchentes.\n> \n> **Link da Notícia:**\n> \n> https://estado.rs.gov.br/defesa-civil-atualiza-balanco-das-enchentes-no-rs-9-5-12h"
          },
          "metadata": {}
        },
        {
          "output_type": "stream",
          "name": "stdout",
          "text": [
            "------------\n",
            "Deseja fazer alguma pergunta sobre os Alertas da Defesa Civil (s/n): s\n",
            "Digite sua pergunta sobre os Alertas da Defesa Civil: algum alerta nos últimos dias e para onde?\n",
            "Resposta: Sim, a Defesa Civil do Rio Grande do Sul emitiu um alerta para chuvas fortes e ventos acima dos 90 km/h para as regiões Sul, Metropolitana, Centro-Sul e Serra do estado.\n",
            "\n",
            "Deseja fazer alguma pergunta sobre os Alertas da Defesa Civil (s/n): n\n",
            "\n",
            "Menu Principal:\n",
            "1. Últimas Informações sobre as Enchentes no RS\n",
            "2. Lugares para Doações\n",
            "3. Ítens Necessários para Doações\n",
            "4. Informações Urgentes da Defesa Civil\n",
            "5. Prever Áreas de Risco\n",
            "6. Sair\n"
          ]
        }
      ],
      "source": [
        "import google.generativeai as genai\n",
        "from google.colab import userdata\n",
        "\n",
        "from IPython.display import clear_output\n",
        "import geopy.geocoders\n",
        "from geopy.geocoders import Nominatim\n",
        "from geopy.exc import GeocoderUnavailable, GeocoderTimedOut\n",
        "from googleapiclient.discovery import build\n",
        "\n",
        "import newspaper\n",
        "import nltk\n",
        "import requests\n",
        "import json\n",
        "import os\n",
        "import time\n",
        "from unstructured.partition.html import partition_html  # Importando a função\n",
        "from bs4 import BeautifulSoup\n",
        "from urllib.parse import urlparse\n",
        "from googleapiclient.discovery import build\n",
        "from newspaper import Article, ArticleException  # Import ArticleException\n",
        "import textwrap\n",
        "import re\n",
        "from googleapiclient.errors import HttpError\n",
        "\n",
        "from IPython.display import display\n",
        "from IPython.display import Markdown\n",
        "\n",
        "from google.colab import userdata\n",
        "\n",
        "GOOGLE_API_KEY = userdata.get('GOOGLE_API_KEY')\n",
        "SEARCH_ENGINE_ID = userdata.get('SEARCH_ENGINE_ID')\n",
        "\n",
        "genai.configure(api_key=google_api_key)\n",
        "\n",
        "generation_config = {\n",
        "\t'candidate_count': 1,\n",
        "\t'temperature': 0.2\n",
        "}\n",
        "\n",
        "safety_settings = {\n",
        "\t\"HARASSMENT\": \"BLOCK_NONE\",\n",
        "\t\"HATE\": \"BLOCK_NONE\",\n",
        "\t\"SEXUAL\": \"BLOCK_NONE\",\n",
        "\t\"DANGEROUS\": \"BLOCK_NONE\"\n",
        "}\n",
        "\n",
        "model = genai.GenerativeModel(model_name=\"gemini-1.0-pro-latest\",\n",
        "                              generation_config=generation_config,\n",
        "                              safety_settings=safety_settings)\n",
        "\n",
        "chat = model.start_chat(history=[])\n",
        "\n",
        "def to_markdown(text, role):\n",
        "    \"\"\"Converts text to Markdown with styling based on the role.\"\"\"\n",
        "    if role == 'user':\n",
        "        return Markdown(f'**{role}**: {text}')  # Bold user text\n",
        "    else:\n",
        "        return Markdown(textwrap.indent(text, '> ', lambda line: True))  # Indent assistant text\n",
        "\n",
        "def resumir_noticia_com_gemini(url):\n",
        "    \"\"\"Resume a notícia com o Gemini, verificando a conexão com a internet e pulando silenciosamente em caso de erro.\"\"\"\n",
        "    try:\n",
        "        requests.head(url, timeout=5)  # Testa a conexão com a URL\n",
        "        prompt = f\"Resuma a notícia e coloque o link da notícia\\n\\n{url}\"\n",
        "        resposta = chat.send_message(prompt)\n",
        "        return resposta.text\n",
        "    except requests.ConnectionError:\n",
        "        return None  # Retorna None em caso de erro de conexão\n",
        "\n",
        "def prever_areas_de_risco():\n",
        "    #clear_output()\n",
        "    print(\"**Prever Possíveis Áreas de Risco**\")\n",
        "    cidade = input(\"Digite o nome da sua cidade: \")\n",
        "    historico_enchentes = obter_historico_enchentes(cidade)  # Função para obter dados históricos\n",
        "    previsao_tempo = obter_previsao_tempo(cidade)  # Função para obter previsão do tempo\n",
        "\n",
        "    prompt = f\"Com base no histórico de enchentes em {cidade} ({historico_enchentes}) e na previsão do tempo ({previsao_tempo}), quais as áreas com maior risco de inundação?\"\n",
        "    resposta = chat.send_message(prompt)\n",
        "\n",
        "    if resposta:\n",
        "        print(\"Áreas com maior risco de inundação:\")\n",
        "        print(resposta.text)\n",
        "    else:\n",
        "        print(\"Não foi possível prever as áreas de risco.\")\n",
        "\n",
        "def obter_historico_enchentes(cidade):\n",
        "    \"\"\"Obtém informações sobre o histórico de enchentes em uma cidade.\"\"\"\n",
        "\n",
        "    query = f\"histórico de enchentes em {cidade}, Rio Grande do Sul\"\n",
        "    resultados = buscar_informacoes_google_cse(query, GOOGLE_API_KEY, SEARCH_ENGINE_ID)\n",
        "\n",
        "    historico = \"\"\n",
        "    for resultado in resultados:\n",
        "        resumo = resumir_noticia_com_gemini(resultado['link'])\n",
        "        if resumo:\n",
        "            historico += resumo + \"\\n\\n\"\n",
        "\n",
        "    if not historico:\n",
        "        historico = f\"Não foram encontradas informações sobre o histórico de enchentes em {cidade}.\"\n",
        "\n",
        "    return historico\n",
        "\n",
        "\n",
        "def obter_previsao_tempo(cidade):\n",
        "    \"\"\"Obtém a previsão do tempo para uma cidade.\"\"\"\n",
        "\n",
        "    query = f\"previsão do tempo em {cidade}, Rio Grande do Sul\"\n",
        "    resultados = buscar_informacoes_google_cse(query, GOOGLE_API_KEY, SEARCH_ENGINE_ID)\n",
        "\n",
        "    previsao = \"\"\n",
        "    for resultado in resultados:\n",
        "        resumo = resumir_noticia_com_gemini(resultado['link'])\n",
        "        if resumo:\n",
        "            previsao += resumo + \"\\n\\n\"\n",
        "\n",
        "    if not previsao:\n",
        "        previsao = f\"Não foi possível obter a previsão do tempo para {cidade}.\"\n",
        "\n",
        "    return previsao\n",
        "\n",
        "def responder_pergunta_sobre_noticia(noticias, pergunta):\n",
        "    \"\"\"Responde a uma pergunta sobre as notícias fornecidas usando o Gemini.\"\"\"\n",
        "    try:\n",
        "        #todos_os_textos = \"\\n\\n\".join([n['texto'] for n in noticias if 'texto' in n])  # Verifica se a chave 'texto' existe\n",
        "        prompt = f\"Responda à pergunta com base nas seguintes notícias:\\n\\n{noticias}\\n\\nPergunta: {pergunta}\"\n",
        "\n",
        "        # Gemini Pro API call (replace with your actual implementation)\n",
        "        resposta = chat.send_message(prompt)\n",
        "\n",
        "        if resposta:\n",
        "            return resposta.text\n",
        "        else:\n",
        "            return \"Gemini Pro não encontrou informações suficientes para responder à pergunta.\"\n",
        "\n",
        "    except Exception as e:\n",
        "        print(f\"Erro ao gerar resposta com o Gemini Pro: {e}\")\n",
        "        return \"Ocorreu um erro ao processar sua pergunta.\"\n",
        "\n",
        "def gerar_alerta_enchente(cidade):\n",
        "    \"\"\"Gera um alerta personalizado sobre enchentes em uma cidade usando o Gemini.\"\"\"\n",
        "    prompt = f\"Gere um alerta sobre enchentes em {cidade}, Rio Grande do Sul, com informações sobre áreas afetadas, recomendações de segurança e locais de doação.\"\n",
        "    resposta = chat.send_message(prompt)\n",
        "    return resposta.text\n",
        "\n",
        "from datetime import datetime\n",
        "\n",
        "def buscar_informacoes_google_cse(query, api_key, search_engine_id, num_results=10, start_index=1):\n",
        "    \"\"\"Busca informações sobre enchentes e alagamentos em 2024, excluindo resultados do YouTube.\"\"\"\n",
        "    try:\n",
        "        service = build(\"customsearch\", \"v1\", developerKey=api_key)\n",
        "\n",
        "        all_results = []\n",
        "        while len(all_results) < num_results:\n",
        "            result = service.cse().list(\n",
        "                q=query, cx=search_engine_id, num=min(10, num_results - len(all_results)), start=start_index,\n",
        "                sort='date:r:20240101:20241231'\n",
        "            ).execute()\n",
        "            items = result.get(\"items\", [])\n",
        "            if not items:\n",
        "                break\n",
        "\n",
        "            for item in items:\n",
        "                # Verificar se o link não é do YouTube\n",
        "                if not item[\"link\"].startswith(\"https://www.youtube.com/\"):\n",
        "                    # Filtrar por relevância (palavras-chave relacionadas a enchentes no RS)\n",
        "                    if any(keyword in item[\"title\"].lower() or keyword in item[\"snippet\"].lower()\n",
        "                           for keyword in [\"enchente\", \"alagamento\", \"inundação\", \"rio grande do sul\", \"rs\"]):\n",
        "                        all_results.append({\n",
        "                            \"titulo\": item[\"title\"],\n",
        "                            \"link\": item[\"link\"],\n",
        "                            \"snippet\": item[\"snippet\"],\n",
        "                        })\n",
        "\n",
        "            start_index += 10\n",
        "            time.sleep(1)\n",
        "\n",
        "        return all_results\n",
        "\n",
        "    except HttpError as e:\n",
        "        print(f\"Erro na solicitação HTTP: {e}\")\n",
        "    except Exception as e:\n",
        "        print(f\"Erro ao buscar informações: {e}\")\n",
        "    return []\n",
        "\n",
        "\n",
        "def valida_localizacao(cidade, geolocator=None):\n",
        "  if geolocator is None:\n",
        "      geolocator = Nominatim(user_agent=\"verificador_cidade_br\")\n",
        "\n",
        "  try:\n",
        "      localizacao = geolocator.geocode(cidade, country_codes=\"BR\", language=\"pt-BR\")\n",
        "      #print(localizacao)\n",
        "      if localizacao:\n",
        "          # Verifica se o tipo de lugar é 'city' ou se o nome da cidade está no endereço\n",
        "          if (\n",
        "              localizacao.raw.get(\"place_type\") == \"city\"\n",
        "              or cidade.lower() in localizacao.address.lower()\n",
        "          ):\n",
        "              return True\n",
        "\n",
        "      return False\n",
        "\n",
        "  except (GeocoderUnavailable, GeocoderTimedOut) as e:\n",
        "      print(f\"Erro ao acessar o serviço de geocodificação: {e}\")\n",
        "      return False\n",
        "  except KeyError:\n",
        "      return False\n",
        "\n",
        "  try:\n",
        "      # Tenta encontrar a cidade utilizando o Geopy\n",
        "      localizacao = geolocator.geocode(cidade)\n",
        "      return True\n",
        "  except Exception:\n",
        "      return False\n",
        "\n",
        "def informacoes_enchentes():\n",
        "    #clear_output()\n",
        "    print(\"**Últimas Informações sobre as Enchentes no RS**\")\n",
        "\n",
        "    query = f\"Enchentes no Rio Grande do Sul 2024\"\n",
        "    resultados = buscar_informacoes_google_cse(query, GOOGLE_API_KEY, SEARCH_ENGINE_ID)\n",
        "\n",
        "    if resultados:\n",
        "        noticias_formatadas = []\n",
        "        todos_os_resumos = []  # Lista para armazenar todos os resumos/snippets\n",
        "\n",
        "        for resultado in resultados:\n",
        "            #print(\"\\nResultados da busca: results:\"+f\"{resultado['titulo']} ({resultado['link']}):\\n{resultado['snippet']}\\n\")\n",
        "\n",
        "            resumo = resumir_noticia_com_gemini(resultado['link'])\n",
        "\n",
        "            if resumo:\n",
        "                noticia_formatada = to_markdown(resumo, '')\n",
        "                todos_os_resumos.append(resumo)\n",
        "            else:\n",
        "                noticia_formatada = to_markdown(f\"{resultado['titulo']} ({resultado['link']}):\\n{resultado['snippet']}\\n\", '')\n",
        "                todos_os_resumos.append(resultado['snippet'])\n",
        "\n",
        "            noticias_formatadas.append(noticia_formatada)\n",
        "            display(noticia_formatada)\n",
        "            print('------------')\n",
        "\n",
        "        # Loop de perguntas após exibir todos os resumos\n",
        "        while True:\n",
        "          chat = model.start_chat(history=[])\n",
        "          pergunta = input(\"Deseja fazer alguma pergunta sobre as notícias exibidas? (s/n): \")\n",
        "          if pergunta.lower() == 's':\n",
        "              pergunta_usuario = input(\"Digite sua pergunta sobre as notícias: \")  # Input para a pergunta do usuário\n",
        "              todos_os_textos = \"\\n\\n\".join(todos_os_resumos)  # Join the strings directly\n",
        "\n",
        "              resposta = responder_pergunta_sobre_noticia(todos_os_textos, pergunta_usuario)  # Passar a pergunta do usuário\n",
        "\n",
        "              if resposta:\n",
        "                  print(f\"Resposta: {resposta}\\n\")\n",
        "              else:\n",
        "                  print(\"Não foi possível responder à pergunta.\\n\")\n",
        "          elif pergunta.lower() == 'n':\n",
        "              break\n",
        "          else:\n",
        "              print(\"Opção inválida. Digite 's' para sim ou 'n' para não.\")\n",
        "\n",
        "    else:\n",
        "        print(\"Nenhum resultado encontrado.\")\n",
        "\n",
        "def lugares_doacoes():\n",
        "    #clear_output()\n",
        "    print(\"**Lugares para Doação**\")\n",
        "    input_cidade = input(\"Digite um local para doação específico: \").strip().lower()\n",
        "\n",
        "    if not input_cidade:\n",
        "        print(\"Por favor, digite um local para doação.\")\n",
        "        return\n",
        "\n",
        "    if valida_localizacao(input_cidade):\n",
        "        query = f\"Pontos de doações em {input_cidade} Rio Grande do Sul\"\n",
        "        resultados = buscar_informacoes_google_cse(query, GOOGLE_API_KEY, SEARCH_ENGINE_ID)\n",
        "\n",
        "        if resultados:\n",
        "            print(\"\\nResultados da busca:\")\n",
        "            todos_os_resumos = []  # Lista para armazenar resumos/snippets\n",
        "\n",
        "            for resultado in resultados:\n",
        "                resumo = resumir_noticia_com_gemini(resultado['link'])\n",
        "\n",
        "                if resumo:\n",
        "                    noticia_formatada = to_markdown(resumo, '')\n",
        "                    todos_os_resumos.append(resumo)\n",
        "                else:\n",
        "                    noticia_formatada = to_markdown(f\"{resultado['titulo']} ({resultado['link']}):\\n{resultado['snippet']}\\n\", '')\n",
        "                    todos_os_resumos.append(resultado['snippet'])\n",
        "\n",
        "                display(noticia_formatada)\n",
        "                print('------------')\n",
        "\n",
        "            # Loop de perguntas após exibir todos os resumos\n",
        "            while True:\n",
        "                chat = model.start_chat(history=[])  # Reinicia o histórico do chat para cada pergunta\n",
        "                pergunta = input(\"Deseja fazer alguma pergunta sobre os locais de doação exibidos? (s/n): \")\n",
        "                if pergunta.lower() == 's':\n",
        "                    pergunta_usuario = input(\"Digite sua pergunta sobre os locais de doação: \")\n",
        "                    todos_os_textos = \"\\n\\n\".join(todos_os_resumos)\n",
        "                    resposta = responder_pergunta_sobre_noticia(todos_os_textos, pergunta_usuario)\n",
        "\n",
        "                    if resposta:\n",
        "                        print(f\"Resposta: {resposta}\\n\")\n",
        "                    else:\n",
        "                        print(\"Não foi possível responder à pergunta.\\n\")\n",
        "                elif pergunta.lower() == 'n':\n",
        "                    break\n",
        "                else:\n",
        "                    print(\"Opção inválida. Digite 's' para sim ou 'n' para não.\")\n",
        "        else:\n",
        "            print(\"Nenhum resultado encontrado.\")\n",
        "    else:\n",
        "        print(f\"A cidade '{input_cidade}' não foi encontrada no Brasil ou não é válida.\")\n",
        "\n",
        "\n",
        "def itens_doacoes():\n",
        "    #clear_output()\n",
        "    print(\"**Ítens para Doação**\")\n",
        "    input_cidade = input(\"Digite um local para doação específico: \").strip().lower()\n",
        "\n",
        "    if not input_cidade:\n",
        "        print(\"Por favor, digite um local para doação.\")\n",
        "        return\n",
        "\n",
        "    if valida_localizacao(input_cidade):\n",
        "        query = f\"Quais Ítens para doações em {input_cidade} Rio Grande do Sul\"\n",
        "        resultados = buscar_informacoes_google_cse(query, GOOGLE_API_KEY, SEARCH_ENGINE_ID)\n",
        "\n",
        "        if resultados:\n",
        "            print(\"\\nResultados da busca:\")\n",
        "            todos_os_resumos = []  # Lista para armazenar resumos/snippets\n",
        "\n",
        "            for resultado in resultados:\n",
        "                resumo = resumir_noticia_com_gemini(resultado['link'])\n",
        "\n",
        "                if resumo:\n",
        "                    noticia_formatada = to_markdown(resumo, '')\n",
        "                    todos_os_resumos.append(resumo)\n",
        "                else:\n",
        "                    noticia_formatada = to_markdown(f\"{resultado['titulo']} ({resultado['link']}):\\n{resultado['snippet']}\\n\", '')\n",
        "                    todos_os_resumos.append(resultado['snippet'])\n",
        "\n",
        "                display(noticia_formatada)\n",
        "                print('------------')\n",
        "\n",
        "            # Loop de perguntas após exibir todos os resumos\n",
        "            while True:\n",
        "                chat = model.start_chat(history=[])  # Reinicia o histórico do chat para cada pergunta\n",
        "                pergunta = input(\"Deseja fazer alguma pergunta sobre os ítens para doação exibidos? (s/n): \")\n",
        "                if pergunta.lower() == 's':\n",
        "                    pergunta_usuario = input(\"Digite sua pergunta sobre os ítens para doação: \")\n",
        "                    todos_os_textos = \"\\n\\n\".join(todos_os_resumos)\n",
        "                    resposta = responder_pergunta_sobre_noticia(todos_os_textos, pergunta_usuario)\n",
        "\n",
        "                    if resposta:\n",
        "                        print(f\"Resposta: {resposta}\\n\")\n",
        "                    else:\n",
        "                        print(\"Não foi possível responder à pergunta.\\n\")\n",
        "                elif pergunta.lower() == 'n':\n",
        "                    break\n",
        "                else:\n",
        "                    print(\"Opção inválida. Digite 's' para sim ou 'n' para não.\")\n",
        "        else:\n",
        "            print(\"Nenhum resultado encontrado.\")\n",
        "    else:\n",
        "        print(f\"A cidade '{input_cidade}' não foi encontrada no Brasil ou não é válida.\")\n",
        "\n",
        "def informacoes_defesa_civil():\n",
        "    #clear_output()\n",
        "    print(\"**Informações e Alertas da Defesa Civil do RS**\")\n",
        "\n",
        "    query = \"Avisos defesa civil enchentes Rio Grande do Sul enchentes\"\n",
        "    resultados = buscar_informacoes_google_cse(query, GOOGLE_API_KEY, SEARCH_ENGINE_ID)\n",
        "\n",
        "    if resultados:\n",
        "        print(\"\\nResultados da busca:\")\n",
        "        todos_os_resumos = []  # Lista para armazenar resumos/snippets\n",
        "\n",
        "        for resultado in resultados:\n",
        "            resumo = resumir_noticia_com_gemini(resultado['link'])\n",
        "\n",
        "            if resumo:\n",
        "                noticia_formatada = to_markdown(resumo, '')\n",
        "                todos_os_resumos.append(resumo)\n",
        "            else:\n",
        "                noticia_formatada = to_markdown(f\"{resultado['titulo']} ({resultado['link']}):\\n{resultado['snippet']}\\n\", '')\n",
        "                todos_os_resumos.append(resultado['snippet'])\n",
        "\n",
        "            display(noticia_formatada)\n",
        "            print('------------')\n",
        "\n",
        "        # Loop de perguntas após exibir todos os resumos\n",
        "        while True:\n",
        "            chat = model.start_chat(history=[])  # Reinicia o histórico do chat para cada pergunta\n",
        "            pergunta = input(\"Deseja fazer alguma pergunta sobre os Alertas da Defesa Civil (s/n): \")\n",
        "            if pergunta.lower() == 's':\n",
        "                pergunta_usuario = input(\"Digite sua pergunta sobre os Alertas da Defesa Civil: \")\n",
        "                todos_os_textos = \"\\n\\n\".join(todos_os_resumos)\n",
        "                resposta = responder_pergunta_sobre_noticia(todos_os_textos, pergunta_usuario)\n",
        "\n",
        "                if resposta:\n",
        "                    print(f\"Resposta: {resposta}\\n\")\n",
        "                else:\n",
        "                    print(\"Não foi possível responder à pergunta.\\n\")\n",
        "            elif pergunta.lower() == 'n':\n",
        "                break\n",
        "            else:\n",
        "                print(\"Opção inválida. Digite 's' para sim ou 'n' para não.\")\n",
        "    else:\n",
        "        print(\"Nenhum resultado encontrado.\")\n",
        "\n",
        "\n",
        "def menu_principal():\n",
        "  \"\"\"Exibe o menu principal e interage com o usuário.\"\"\"\n",
        "  while True:\n",
        "    print(\"\\nMenu Principal:\")\n",
        "    print(\"1. Últimas Informações sobre as Enchentes no RS\")\n",
        "    print(\"2. Lugares para Doações\")\n",
        "    print(\"3. Ítens Necessários para Doações\")\n",
        "    print(\"4. Informações Urgentes da Defesa Civil\")\n",
        "    print(\"5. Prever Áreas de Risco\")\n",
        "    print(\"6. Sair\")\n",
        "    opcao = input(\"Digite sua opção: \")\n",
        "    if opcao == \"1\":\n",
        "      informacoes_enchentes()\n",
        "    elif opcao == \"2\":\n",
        "      lugares_doacoes()\n",
        "    elif opcao == \"3\":\n",
        "      itens_doacoes()\n",
        "    elif opcao == \"4\":\n",
        "      informacoes_defesa_civil()\n",
        "    elif opcao == \"5\":\n",
        "      prever_areas_de_risco()\n",
        "    elif opcao == \"6\":\n",
        "      break\n",
        "    else:\n",
        "      print(\"Opção inválida. Tente novamente.\")\n",
        "\n",
        "# Executar o menu principal\n",
        "menu_principal()"
      ]
    },
    {
      "cell_type": "code",
      "source": [],
      "metadata": {
        "id": "c_opW_R_Rxvg"
      },
      "execution_count": null,
      "outputs": []
    }
  ],
  "metadata": {
    "colab": {
      "provenance": [],
      "authorship_tag": "ABX9TyPU7PnLMvw8A3EvGPlEQMcJ",
      "include_colab_link": true
    },
    "kernelspec": {
      "display_name": "Python 3",
      "name": "python3"
    },
    "language_info": {
      "name": "python"
    }
  },
  "nbformat": 4,
  "nbformat_minor": 0
}