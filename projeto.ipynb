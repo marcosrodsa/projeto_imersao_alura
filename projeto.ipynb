{
  "cells": [
    {
      "cell_type": "markdown",
      "metadata": {
        "id": "view-in-github",
        "colab_type": "text"
      },
      "source": [
        "<a href=\"https://colab.research.google.com/github/marcosrodsa/projeto_imersao_alura/blob/main/projeto.ipynb\" target=\"_parent\"><img src=\"https://colab.research.google.com/assets/colab-badge.svg\" alt=\"Open In Colab\"/></a>"
      ]
    },
    {
      "cell_type": "markdown",
      "metadata": {
        "id": "H89dVzKx4GHO"
      },
      "source": [
        "Instalando Dependências"
      ]
    },
    {
      "cell_type": "code",
      "execution_count": 1,
      "metadata": {
        "id": "gTP6iIJDnwVg"
      },
      "outputs": [],
      "source": [
        "!pip install -q -U google-generativeai"
      ]
    },
    {
      "cell_type": "code",
      "execution_count": 2,
      "metadata": {
        "id": "FWT8Zn6N38qh"
      },
      "outputs": [],
      "source": [
        "!pip install -q -U geopy"
      ]
    },
    {
      "cell_type": "code",
      "execution_count": 3,
      "metadata": {
        "id": "jTpeDEz0ZJpY"
      },
      "outputs": [],
      "source": [
        "!pip install -q -U google-api-python-client"
      ]
    },
    {
      "cell_type": "code",
      "execution_count": 4,
      "metadata": {
        "id": "Ar0PDLOFer6d"
      },
      "outputs": [],
      "source": [
        "!pip install -q -U google-search-results"
      ]
    },
    {
      "cell_type": "code",
      "execution_count": 5,
      "metadata": {
        "id": "UG0S2eQ1fk5m"
      },
      "outputs": [],
      "source": [
        "!pip install newspaper3k -q -U"
      ]
    },
    {
      "cell_type": "code",
      "execution_count": 6,
      "metadata": {
        "id": "5842QBHKCC_Z"
      },
      "outputs": [],
      "source": [
        "!pip install unstructured -q -U"
      ]
    },
    {
      "cell_type": "markdown",
      "metadata": {
        "id": "7X8btBnYp5YA"
      },
      "source": [
        "Inicando Funções"
      ]
    },
    {
      "cell_type": "code",
      "execution_count": 9,
      "metadata": {
        "colab": {
          "base_uri": "https://localhost:8080/",
          "height": 1000
        },
        "id": "Y0hoP7KleM82",
        "outputId": "a4a69af1-64b8-43a3-dcea-c5ec22165ff1"
      },
      "outputs": [
        {
          "output_type": "stream",
          "name": "stdout",
          "text": [
            "\n",
            "Menu Principal:\n",
            "1. Últimas Informações sobre as Enchentes no RS\n",
            "2. Lugares para Doações\n",
            "3. Ítens Necessários para Doações\n",
            "4. Informações Urgentes da Defesa Civil\n",
            "5. Prever Áreas de Risco\n",
            "6. Sair\n",
            "Digite sua opção: 1\n",
            "**Últimas Informações sobre as Enchentes no RS**\n"
          ]
        },
        {
          "output_type": "display_data",
          "data": {
            "text/plain": [
              "<IPython.core.display.Markdown object>"
            ],
            "text/markdown": "> **Resumo:**\n> \n> Em 2024, o estado do Rio Grande do Sul, no Brasil, sofreu graves inundações devido a fortes chuvas. As inundações afetaram mais de 200 municípios, desalojando milhares de pessoas e causando danos significativos a infraestrutura e à agricultura.\n> \n> **Link da Notícia:**\n> \n> https://en.wikipedia.org/wiki/2024_Rio_Grande_do_Sul_floods\n> \n> **Data da Publicação:**\n> \n> Não especificada na notícia"
          },
          "metadata": {}
        },
        {
          "output_type": "stream",
          "name": "stdout",
          "text": [
            "------------\n"
          ]
        },
        {
          "output_type": "display_data",
          "data": {
            "text/plain": [
              "<IPython.core.display.Markdown object>"
            ],
            "text/markdown": "> **Resumo:**\n> \n> A BBC Brasil publicou uma notícia em 16 de fevereiro de 2023 sobre a decisão do Supremo Tribunal Federal (STF) de derrubar uma liminar que suspendia a nomeação de André Mendonça para o cargo de ministro do STF.\n> \n> A liminar havia sido concedida pelo ministro Kassio Nunes Marques em dezembro de 2022, sob o argumento de que a nomeação de Mendonça não havia seguido o rito constitucional adequado. No entanto, o plenário do STF, por maioria de 8 votos a 2, decidiu derrubar a liminar, permitindo que Mendonça tomasse posse como ministro.\n> \n> **Link da Notícia:**\n> \n> https://www.bbc.com/portuguese/articles/ck5kp34nr1do\n> \n> **Data da Publicação:**\n> \n> 16 de fevereiro de 2023"
          },
          "metadata": {}
        },
        {
          "output_type": "stream",
          "name": "stdout",
          "text": [
            "------------\n"
          ]
        },
        {
          "output_type": "display_data",
          "data": {
            "text/plain": [
              "<IPython.core.display.Markdown object>"
            ],
            "text/markdown": "> **Resumo:**\n> \n> Em 5 de maio de 2024, a Agência Brasil publicou uma notícia sobre as fortes chuvas que atingiram o estado do Rio Grande do Sul, no Brasil. As chuvas causaram inundações e deslizamentos de terra, resultando em pelo menos 116 mortes e 143 desaparecidos.\n> \n> As cidades mais afetadas foram Bento Gonçalves, Garibaldi e Carlos Barbosa, na Serra Gaúcha. As chuvas também causaram danos significativos à infraestrutura, incluindo estradas e pontes, e deixaram milhares de pessoas desalojadas.\n> \n> Equipes de resgate estão trabalhando para localizar os desaparecidos e prestar assistência às vítimas. O governo federal liberou recursos para ajudar no atendimento à população afetada.\n> \n> **Link da Notícia:**\n> \n> https://agenciabrasil.ebc.com.br/geral/noticia/2024-05/chuvas-no-rs-causam-ao-menos-116-mortes-e-deixam-143-desaparecidos\n> \n> **Data da Publicação:**\n> \n> 5 de maio de 2024"
          },
          "metadata": {}
        },
        {
          "output_type": "stream",
          "name": "stdout",
          "text": [
            "------------\n"
          ]
        },
        {
          "output_type": "display_data",
          "data": {
            "text/plain": [
              "<IPython.core.display.Markdown object>"
            ],
            "text/markdown": "> **Resumo:**\n> \n> Em maio de 2024, o estado do Rio Grande do Sul, no Brasil, foi atingido por fortes chuvas que causaram inundações e deslizamentos de terra generalizados. As chuvas afetaram mais de 100 municípios, deixando um rastro de destruição e vítimas.\n> \n> As cidades mais atingidas foram Bento Gonçalves, Garibaldi e Carlos Barbosa, na Serra Gaúcha. As chuvas também causaram danos significativos à infraestrutura, incluindo estradas, pontes e redes elétricas. Mais de 100 mil pessoas foram afetadas pelas inundações, com milhares ficando desalojadas ou desabrigadas.\n> \n> Equipes de resgate trabalharam incansavelmente para localizar desaparecidos e prestar assistência às vítimas. O governo federal liberou recursos para ajudar no atendimento à população afetada.\n> \n> **Link da Notícia:**\n> \n> https://pt.wikipedia.org/wiki/Enchentes_no_Rio_Grande_do_Sul_em_2024\n> \n> **Data da Publicação:**\n> \n> Não especificada na notícia"
          },
          "metadata": {}
        },
        {
          "output_type": "stream",
          "name": "stdout",
          "text": [
            "------------\n"
          ]
        },
        {
          "output_type": "display_data",
          "data": {
            "text/plain": [
              "<IPython.core.display.Markdown object>"
            ],
            "text/markdown": "> **Resumo:**\n> \n> Em 5 de maio de 2024, o site A Pública publicou uma reportagem sobre a cidade de Bento Gonçalves, no Rio Grande do Sul, que foi devastada por inundações pela terceira vez em menos de dois anos.\n> \n> A reportagem retrata o desespero e a exaustão dos moradores, que perderam tudo mais uma vez. Eles relatam que não têm mais lágrimas para chorar e que estão cansados de reconstruir suas vidas após cada desastre.\n> \n> A cidade foi atingida por fortes chuvas que causaram o transbordamento do Rio Cadeia e de outros afluentes. As águas invadiram casas, comércios e ruas, deixando um rastro de destruição.\n> \n> Equipes de resgate trabalharam incansavelmente para salvar vidas e prestar assistência às vítimas. O governo federal liberou recursos para ajudar no atendimento à população afetada.\n> \n> **Link da Notícia:**\n> \n> https://apublica.org/2024/05/nao-temos-mais-lagrimas-pra-chorar-a-cidade-gaucha-destruida-pela-3a-vez-por-enchentes/\n> \n> **Data da Publicação:**\n> \n> 5 de maio de 2024"
          },
          "metadata": {}
        },
        {
          "output_type": "stream",
          "name": "stdout",
          "text": [
            "------------\n"
          ]
        },
        {
          "output_type": "display_data",
          "data": {
            "text/plain": [
              "<IPython.core.display.Markdown object>"
            ],
            "text/markdown": "> **Resumo:**\n> \n> O Fundo de Emergência para as Enchentes no Rio Grande do Sul (Fundo Enchentes RS) é uma iniciativa da Federação das Indústrias do Estado do Rio Grande do Sul (FIERGS) para arrecadar doações e prestar assistência às vítimas das enchentes que atingiram o estado em maio de 2024.\n> \n> As fortes chuvas causaram inundações e deslizamentos de terra em mais de 100 municípios gaúchos, deixando um rastro de destruição e milhares de pessoas afetadas. O Fundo Enchentes RS visa arrecadar recursos para fornecer ajuda humanitária às vítimas, incluindo alimentos, água potável, roupas, medicamentos e materiais de higiene.\n> \n> As doações podem ser feitas por meio do site do Fundo Enchentes RS ou por transferência bancária. O fundo é auditado por uma empresa independente para garantir a transparência e o uso adequado dos recursos arrecadados.\n> \n> **Link da Notícia:**\n> \n> https://fundmed.org.br/fundo-enchentes-rs/\n> \n> **Data da Publicação:**\n> \n> Não especificada na notícia"
          },
          "metadata": {}
        },
        {
          "output_type": "stream",
          "name": "stdout",
          "text": [
            "------------\n"
          ]
        },
        {
          "output_type": "display_data",
          "data": {
            "text/plain": [
              "<IPython.core.display.Markdown object>"
            ],
            "text/markdown": "> **Resumo:**\n> \n> Em 6 de maio de 2024, a CNN Brasil publicou uma notícia informando que quase 80% dos municípios do Rio Grande do Sul foram afetados pelas fortes chuvas que atingiram o estado.\n> \n> De acordo com o levantamento da CNN, 469 dos 497 municípios gaúchos registraram algum tipo de impacto das chuvas, incluindo inundações, deslizamentos de terra e estradas interditadas. As regiões mais afetadas foram a Serra Gaúcha, o Vale do Sinos e a Região Metropolitana de Porto Alegre.\n> \n> A notícia destaca que as chuvas causaram estragos em infraestrutura, agricultura e residências. Milhares de pessoas ficaram desalojadas ou desabrigadas, e equipes de resgate trabalham incansavelmente para prestar assistência às vítimas.\n> \n> **Link da Notícia:**\n> \n> https://www.cnnbrasil.com.br/nacional/chuvas-no-rs-quase-80-das-cidades-gauchas-foram-afetadas-veja-lista/\n> \n> **Data da Publicação:**\n> \n> 6 de maio de 2024"
          },
          "metadata": {}
        },
        {
          "output_type": "stream",
          "name": "stdout",
          "text": [
            "------------\n"
          ]
        },
        {
          "output_type": "display_data",
          "data": {
            "text/plain": [
              "<IPython.core.display.Markdown object>"
            ],
            "text/markdown": "> **Resumo:**\n> \n> Em 10 de maio de 2024, o UOL Notícias publicou uma cronologia das fortes chuvas e enchentes que atingiram o Rio Grande do Sul, descrevendo-as como uma \"tragédia sem precedentes\".\n> \n> **Cronologia:**\n> \n> * **4 de maio:** Fortes chuvas começam a atingir o estado, causando inundações e deslizamentos de terra.\n> * **5 de maio:** As chuvas se intensificam, resultando em inundações generalizadas e o transbordamento de rios em várias cidades.\n> * **6 de maio:** O número de municípios afetados chega a quase 80%, com milhares de pessoas desalojadas ou desabrigadas.\n> * **7 de maio:** O governo federal reconhece o estado de calamidade pública no Rio Grande do Sul e libera recursos para ajudar as vítimas.\n> * **8 de maio:** Equipes de resgate continuam trabalhando para localizar desaparecidos e prestar assistência aos afetados.\n> * **9 de maio:** O número de mortos pelas chuvas chega a 100, e as buscas por desaparecidos continuam.\n> * **10 de maio:** O governo do estado anuncia um pacote de medidas para ajudar na reconstrução das áreas afetadas.\n> \n> A notícia destaca que as chuvas e enchentes causaram danos sem precedentes à infraestrutura, agricultura e residências do Rio Grande do Sul, deixando um rastro de destruição e milhares de pessoas necessitando de ajuda.\n> \n> **Link da Notícia:**\n> \n> https://noticias.uol.com.br/cotidiano/ultimas-noticias/2024/05/10/cronologia-enchente-chuvas-rio-grande-do-sul-2024-tragedia-sem-precedente.htm\n> \n> **Data da Publicação:**\n> \n> 10 de maio de 2024"
          },
          "metadata": {}
        },
        {
          "output_type": "stream",
          "name": "stdout",
          "text": [
            "------------\n"
          ]
        },
        {
          "output_type": "display_data",
          "data": {
            "text/plain": [
              "<IPython.core.display.Markdown object>"
            ],
            "text/markdown": "> **Resumo:**\n> \n> Em 12 de maio de 2024, a CNN Brasil publicou uma reportagem sobre as vítimas das enchentes no Rio Grande do Sul, destacando histórias de perda, resiliência e esperança.\n> \n> A reportagem apresenta perfis de algumas das vítimas fatais das chuvas, incluindo uma jovem mãe que morreu tentando salvar seus filhos, um idoso que foi arrastado pela correnteza e um casal que perdeu tudo em um deslizamento de terra.\n> \n> A CNN também ouviu sobreviventes que compartilharam suas experiências de terror e perda, mas também de gratidão pela ajuda recebida. Uma mulher contou como foi resgatada de sua casa inundada por um grupo de vizinhos, enquanto um homem relatou como perdeu tudo, mas encontrou força na solidariedade da comunidade.\n> \n> A reportagem destaca o impacto devastador das enchentes nas vidas das pessoas, mas também mostra a resiliência e a capacidade de superação do povo gaúcho.\n> \n> **Link da Notícia:**\n> \n> https://www.cnnbrasil.com.br/nacional/conheca-as-vitimas-das-enchentes-no-rio-grande-do-sul/\n> \n> **Data da Publicação:**\n> \n> 12 de maio de 2024"
          },
          "metadata": {}
        },
        {
          "output_type": "stream",
          "name": "stdout",
          "text": [
            "------------\n"
          ]
        },
        {
          "output_type": "display_data",
          "data": {
            "text/plain": [
              "<IPython.core.display.Markdown object>"
            ],
            "text/markdown": "> **Resumo:**\n> \n> Em 6 de maio de 2024, o G1 publicou uma notícia com imagens de satélite que mostram o antes e depois da maior enchente da história do Rio Grande do Sul.\n> \n> As imagens, fornecidas pela empresa Planet Labs, mostram a extensão da inundação que atingiu o estado, principalmente na região da Serra Gaúcha. As imagens comparam a região antes das chuvas, em 2 de maio, e após as fortes precipitações, em 5 de maio.\n> \n> A comparação revela que vastas áreas que antes eram verdes e secas ficaram completamente inundadas, com rios transbordando e cidades inteiras submersas. As imagens também mostram o impacto das chuvas na agricultura, com plantações destruídas e áreas rurais devastadas.\n> \n> A notícia destaca que as imagens de satélite são uma ferramenta valiosa para avaliar a extensão dos danos causados pelas enchentes e ajudar no planejamento dos esforços de recuperação.\n> \n> **Link da Notícia:**\n> \n> https://g1.globo.com/meio-ambiente/noticia/2024/05/06/imagens-de-satelite-mostram-antes-e-depois-de-maior-enchente-da-historia-no-rio-grande-do-sul.ghtml\n> \n> **Data da Publicação:**\n> \n> 6 de maio de 2024"
          },
          "metadata": {}
        },
        {
          "output_type": "stream",
          "name": "stdout",
          "text": [
            "------------\n",
            "Deseja fazer alguma pergunta sobre as notícias exibidas? (s/n): sisi\n",
            "Opção inválida. Digite 's' para sim ou 'n' para não.\n",
            "Deseja fazer alguma pergunta sobre as notícias exibidas? (s/n): s\n",
            "Digite sua pergunta sobre as notícias: quanto municipios atingidos?\n",
            "Resposta: 469 municípios\n",
            "\n",
            "Deseja fazer alguma pergunta sobre as notícias exibidas? (s/n): s\n",
            "Digite sua pergunta sobre as notícias: alguma campanha?\n",
            "Resposta: Sim, há uma campanha mencionada nas notícias:\n",
            "\n",
            "**Fundo de Emergência para as Enchentes no Rio Grande do Sul (Fundo Enchentes RS)**\n",
            "\n",
            "O Fundo Enchentes RS é uma iniciativa da Federação das Indústrias do Estado do Rio Grande do Sul (FIERGS) para arrecadar doações e prestar assistência às vítimas das enchentes que atingiram o estado em maio de 2024.\n",
            "\n",
            "O objetivo do fundo é fornecer ajuda humanitária às vítimas, incluindo alimentos, água potável, roupas, medicamentos e materiais de higiene.\n",
            "\n",
            "As doações podem ser feitas por meio do site do Fundo Enchentes RS ou por transferência bancária.\n",
            "\n",
            "Deseja fazer alguma pergunta sobre as notícias exibidas? (s/n): n\n",
            "\n",
            "Menu Principal:\n",
            "1. Últimas Informações sobre as Enchentes no RS\n",
            "2. Lugares para Doações\n",
            "3. Ítens Necessários para Doações\n",
            "4. Informações Urgentes da Defesa Civil\n",
            "5. Prever Áreas de Risco\n",
            "6. Sair\n",
            "Digite sua opção: 2\n",
            "**Lugares para Doação**\n",
            "Digite um local para doação específico: poa\n",
            "Porto Alegre, Região Geográfica Imediata de Porto Alegre, Região Metropolitana de Porto Alegre, Região Geográfica Intermediária de Porto Alegre, Rio Grande do Sul, Região Sul, Brasil\n",
            "A cidade 'poa' não foi encontrada no Brasil ou não é válida.\n",
            "\n",
            "Menu Principal:\n",
            "1. Últimas Informações sobre as Enchentes no RS\n",
            "2. Lugares para Doações\n",
            "3. Ítens Necessários para Doações\n",
            "4. Informações Urgentes da Defesa Civil\n",
            "5. Prever Áreas de Risco\n",
            "6. Sair\n",
            "Digite sua opção: 2\n",
            "**Lugares para Doação**\n",
            "Digite um local para doação específico: Porto Alegre\n",
            "Porto Alegre, Região Geográfica Imediata de Porto Alegre, Região Metropolitana de Porto Alegre, Região Geográfica Intermediária de Porto Alegre, Rio Grande do Sul, Região Sul, Brasil\n",
            "\n",
            "Resultados da busca:\n"
          ]
        },
        {
          "output_type": "display_data",
          "data": {
            "text/plain": [
              "<IPython.core.display.Markdown object>"
            ],
            "text/markdown": "> **Resumo:**\n> \n> Em meio às devastadoras enchentes que atingiram o Rio Grande do Sul em maio de 2024, o Terra publicou uma notícia informando sobre as formas de doar e os pontos de coleta mais próximos para ajudar as vítimas.\n> \n> A notícia destaca que a população pode contribuir com doações financeiras por meio do site do Fundo Enchentes RS ou via Pix. Além disso, há diversos pontos de coleta espalhados pelo estado, onde são aceitas doações de alimentos não perecíveis, água potável, roupas, produtos de higiene e materiais de limpeza.\n> \n> A notícia também fornece uma lista com os endereços e telefones dos pontos de coleta mais próximos de cada região do Rio Grande do Sul.\n> \n> **Link da Notícia:**\n> \n> https://www.terra.com.br/noticias/doacoes-para-o-rio-grande-do-sul-saiba-como-doar-e-quais-sao-os-pontos-de-coleta-mais-proximos-de-sua-casa,caa8f066ede3cddbd20f2b2766edb2df1hot6p70.html\n> \n> **Data da Publicação:**\n> \n> Não especificada na notícia"
          },
          "metadata": {}
        },
        {
          "output_type": "stream",
          "name": "stdout",
          "text": [
            "------------\n"
          ]
        },
        {
          "output_type": "display_data",
          "data": {
            "text/plain": [
              "<IPython.core.display.Markdown object>"
            ],
            "text/markdown": "> **Resumo:**\n> \n> Em 6 de maio de 2024, o G1 publicou uma notícia informando que a cidade de Araraquara, em São Paulo, disponibilizou pontos de arrecadação de doações para as vítimas das enchentes no Rio Grande do Sul.\n> \n> A notícia destaca que a iniciativa é uma parceria entre a Prefeitura de Araraquara e o Fundo Social de Solidariedade do município. Os pontos de coleta estão localizados em diversos locais da cidade, incluindo o Paço Municipal, o Centro de Convivência do Idoso (CCI) e o Fundo Social de Solidariedade.\n> \n> São aceitas doações de alimentos não perecíveis, água potável, roupas, produtos de higiene e materiais de limpeza. As doações serão enviadas ao Rio Grande do Sul por meio de caminhões da Defesa Civil.\n> \n> **Link da Notícia:**\n> \n> https://g1.globo.com/sp/sao-carlos-regiao/noticia/2024/05/06/araraquara-tem-pontos-de-arrecadacao-de-doacoes-as-vitimas-de-enchente-no-rio-grande-do-sul.ghtml\n> \n> **Data da Publicação:**\n> \n> 6 de maio de 2024"
          },
          "metadata": {}
        },
        {
          "output_type": "stream",
          "name": "stdout",
          "text": [
            "------------\n"
          ]
        },
        {
          "output_type": "display_data",
          "data": {
            "text/plain": [
              "<IPython.core.display.Markdown object>"
            ],
            "text/markdown": "> **Resumo:**\n> \n> Em meio às graves enchentes que atingiram o Rio Grande do Sul em maio de 2024, o Brasil Popular publicou uma notícia destacando a onda de solidariedade no estado. Mais de 100 pontos de apoio foram montados em Porto Alegre para receber doações para as vítimas.\n> \n> A notícia fornece uma lista com os endereços e horários de funcionamento dos pontos de coleta, que estão localizados em diversos bairros da capital gaúcha. São aceitas doações de alimentos não perecíveis, água potável, roupas, produtos de higiene e materiais de limpeza.\n> \n> A notícia também destaca a importância das doações para ajudar as milhares de pessoas que foram afetadas pelas enchentes, perdendo suas casas e pertences.\n> \n> **Link da Notícia:**\n> \n> https://brasilpopular.org/solidariedade-no-rs-doacoes-sao-recolhidas-em-mais-de-100-pontos-de-apoio-em-porto-alegre-saiba-onde-doar/\n> \n> **Data da Publicação:**\n> \n> Não especificada na notícia"
          },
          "metadata": {}
        },
        {
          "output_type": "stream",
          "name": "stdout",
          "text": [
            "------------\n"
          ]
        },
        {
          "output_type": "display_data",
          "data": {
            "text/plain": [
              "<IPython.core.display.Markdown object>"
            ],
            "text/markdown": "> **Resumo:**\n> \n> Em meio às devastadoras enchentes que atingiram o Rio Grande do Sul em maio de 2024, o Conselho Regional de Nutricionistas da 4ª Região (CRN-4) publicou uma notícia convocando a população a ajudar as vítimas.\n> \n> A notícia destaca que milhares de pessoas foram afetadas pelas enchentes, perdendo suas casas, pertences e alimentos. O CRN-4 enfatiza a importância de doações para fornecer assistência às vítimas e ajudar na reconstrução das áreas atingidas.\n> \n> A notícia fornece informações sobre como doar para o Fundo Enchentes RS, uma iniciativa da Federação das Indústrias do Estado do Rio Grande do Sul (FIERGS) para arrecadar recursos para as vítimas. As doações podem ser feitas por meio do site do fundo ou via Pix.\n> \n> Além disso, a notícia também fornece uma lista com os endereços e telefones dos pontos de coleta de doações em diversas cidades do Rio Grande do Sul. São aceitas doações de alimentos não perecíveis, água potável, roupas, produtos de higiene e materiais de limpeza.\n> \n> **Link da Notícia:**\n> \n> https://www.crn4.org.br/noticia/776/SOS+Rio+Grande+do+Sul%3A+saiba+como+ajudar%21\n> \n> **Data da Publicação:**\n> \n> Não especificada na notícia"
          },
          "metadata": {}
        },
        {
          "output_type": "stream",
          "name": "stdout",
          "text": [
            "------------\n"
          ]
        },
        {
          "output_type": "display_data",
          "data": {
            "text/plain": [
              "<IPython.core.display.Markdown object>"
            ],
            "text/markdown": "> **Resumo:**\n> \n> Em 6 de maio de 2024, o Estado de Minas publicou uma notícia informando sobre os pontos de doação para as vítimas das enchentes no Rio Grande do Sul na cidade de Belo Horizonte.\n> \n> A notícia destaca que a Prefeitura de Belo Horizonte, em parceria com a Defesa Civil Municipal, disponibilizou diversos pontos de coleta espalhados pela cidade. São aceitas doações de alimentos não perecíveis, água potável, roupas, produtos de higiene e materiais de limpeza.\n> \n> A notícia fornece uma lista com os endereços e horários de funcionamento dos pontos de coleta, que estão localizados em diversos bairros de Belo Horizonte.\n> \n> **Link da Notícia:**\n> \n> https://www.em.com.br/gerais/2024/05/6852026-confira-os-pontos-de-doacoes-para-o-rio-grande-do-sul-em-bh.html\n> \n> **Data da Publicação:**\n> \n> 6 de maio de 2024"
          },
          "metadata": {}
        },
        {
          "output_type": "stream",
          "name": "stdout",
          "text": [
            "------------\n"
          ]
        },
        {
          "output_type": "display_data",
          "data": {
            "text/plain": [
              "<IPython.core.display.Markdown object>"
            ],
            "text/markdown": "> **Resumo:**\n> \n> Em 7 de maio de 2024, O Globo publicou uma notícia informando sobre as formas de doar para ajudar as vítimas das enchentes no Rio Grande do Sul.\n> \n> A notícia destaca que as fortes chuvas que atingiram o estado causaram estragos generalizados, deixando milhares de pessoas desalojadas e desabrigadas. O governo do estado decretou situação de emergência e pediu ajuda à população.\n> \n> A notícia fornece diversas opções para doações:\n> \n> * **Doações financeiras:** podem ser feitas por meio do site do Fundo Enchentes RS ou via Pix.\n> * **Doações de alimentos, água e itens de higiene:** podem ser entregues nos pontos de coleta espalhados pelo estado. A notícia fornece uma lista com os endereços e horários de funcionamento dos pontos de coleta em diversas cidades do Rio Grande do Sul.\n> \n> A notícia também destaca a importância das doações para ajudar as vítimas das enchentes a reconstruírem suas vidas e superar os desafios causados pelo desastre.\n> \n> **Link da Notícia:**\n> \n> https://oglobo.globo.com/cultura/noticia/2024/05/07/chuvas-no-rio-grande-do-sul-veja-como-doar-para-pessoas-atingidas-pelas-enchentes.ghtml\n> \n> **Data da Publicação:**\n> \n> 7 de maio de 2024"
          },
          "metadata": {}
        },
        {
          "output_type": "stream",
          "name": "stdout",
          "text": [
            "------------\n"
          ]
        },
        {
          "output_type": "display_data",
          "data": {
            "text/plain": [
              "<IPython.core.display.Markdown object>"
            ],
            "text/markdown": "> **Resumo:**\n> \n> Em 10 de maio de 2024, o site oficial do Governo do Distrito Federal anunciou a disponibilização de um ponto de coleta de doações para as vítimas das enchentes no Rio Grande do Sul.\n> \n> O ponto de coleta está localizado na sede da Companhia de Desenvolvimento Habitacional do Distrito Federal (Codhab-DF), no Setor de Indústrias Gráficas (SIG), Quadra 01, Lote 02. As doações podem ser entregues de segunda a sexta-feira, das 8h às 17h.\n> \n> São aceitas doações de alimentos não perecíveis, água potável, roupas, produtos de higiene e materiais de limpeza. As doações serão enviadas ao Rio Grande do Sul por meio de caminhões da Defesa Civil.\n> \n> A notícia destaca a importância das doações para ajudar as milhares de pessoas que foram afetadas pelas enchentes, perdendo suas casas e pertences.\n> \n> **Link da Notícia:**\n> \n> https://www.cl.df.gov.br/-/cldf-disponibiliza-ponto-de-coleta-de-doacoes-para-vitimas-das-enchentes-no-rs-1\n> \n> **Data da Publicação:**\n> \n> 10 de maio de 2024"
          },
          "metadata": {}
        },
        {
          "output_type": "stream",
          "name": "stdout",
          "text": [
            "------------\n"
          ]
        },
        {
          "output_type": "display_data",
          "data": {
            "text/plain": [
              "<IPython.core.display.Markdown object>"
            ],
            "text/markdown": "> Clube Farrapos é novo ponto de referência no recebimento de ... (https://prefeitura.poa.br/defesa-civil/noticias/clube-farrapos-e-novo-ponto-de-referencia-no-recebimento-de-doacoes):\n> 2 days ago ... Avenida Cristóvão Colombo, 545. Ministério Público do Rio Grande do Sul (MP/RS) - das 9h às 18h ... Porto Alegre registra 12,7 mil pessoas ...\n"
          },
          "metadata": {}
        },
        {
          "output_type": "stream",
          "name": "stdout",
          "text": [
            "------------\n"
          ]
        },
        {
          "output_type": "display_data",
          "data": {
            "text/plain": [
              "<IPython.core.display.Markdown object>"
            ],
            "text/markdown": "> SBPC divulga pontos de ajuda para afetados no temporal do RS ... (https://portal.sbpcnet.org.br/noticias/sbpc-divulga-pontos-de-ajuda-para-afetados-no-temporal-do-rs/):\n> May 3, 2024 ... Para quem está próximo da capital do Estado, Porto Alegre, é possível fazer doações de itens específicos para auxílio dos desabrigados e ...\n"
          },
          "metadata": {}
        },
        {
          "output_type": "stream",
          "name": "stdout",
          "text": [
            "------------\n"
          ]
        },
        {
          "output_type": "display_data",
          "data": {
            "text/plain": [
              "<IPython.core.display.Markdown object>"
            ],
            "text/markdown": "> **Resumo:**\n> \n> Em 11 de maio de 2024, o Brasil Escola publicou uma notícia informando sobre as formas de doar para ajudar as vítimas das enchentes no Rio Grande do Sul.\n> \n> A notícia destaca que as fortes chuvas que atingiram o estado causaram estragos generalizados, deixando milhares de pessoas desalojadas e desabrigadas. O governo do estado decretou situação de emergência e pediu ajuda à população.\n> \n> A notícia fornece diversas opções para doações:\n> \n> * **Doações financeiras:** podem ser feitas por meio do site do Fundo Enchentes RS ou via Pix.\n> * **Doações de alimentos, água e itens de higiene:** podem ser entregues nos pontos de coleta espalhados pelo estado. A notícia fornece uma lista com os endereços e horários de funcionamento dos pontos de coleta em diversas cidades do Rio Grande do Sul.\n> * **Doações online:** também é possível doar online por meio de plataformas como o Vakinha e o Benfeitoria.\n> \n> A notícia também destaca a importância das doações para ajudar as vítimas das enchentes a reconstruírem suas vidas e superar os desafios causados pelo desastre.\n> \n> **Link da Notícia:**\n> \n> https://brasilescola.uol.com.br/noticias/doacoes-para-rio-grande-do-sul-confira-onde-ajudar-de-forma-presencial-e-on-line/3131269.html\n> \n> **Data da Publicação:**\n> \n> 11 de maio de 2024"
          },
          "metadata": {}
        },
        {
          "output_type": "stream",
          "name": "stdout",
          "text": [
            "------------\n",
            "Deseja fazer alguma pergunta sobre os locais de doação exibidos? (s/n): s\n",
            "Digite sua pergunta sobre os locais de doação: existe algum endereço?\n",
            "Resposta: Sim, existem vários endereços de pontos de coleta de doações mencionados nas notícias:\n",
            "\n",
            "* **Porto Alegre, RS:**\n",
            "    * Avenida Cristóvão Colombo, 545\n",
            "    * Ministério Público do Rio Grande do Sul (MP/RS)\n",
            "* **Belo Horizonte, MG:**\n",
            "    * Diversos pontos de coleta espalhados pela cidade (lista disponível na notícia do Estado de Minas)\n",
            "* **Araraquara, SP:**\n",
            "    * Paço Municipal\n",
            "    * Centro de Convivência do Idoso (CCI)\n",
            "    * Fundo Social de Solidariedade\n",
            "* **Brasília, DF:**\n",
            "    * Sede da Companhia de Desenvolvimento Habitacional do Distrito Federal (Codhab-DF), no Setor de Indústrias Gráficas (SIG), Quadra 01, Lote 02\n",
            "\n",
            "Além disso, as notícias também fornecem informações sobre como doar online ou por meio de plataformas como o Vakinha e o Benfeitoria.\n",
            "\n",
            "Deseja fazer alguma pergunta sobre os locais de doação exibidos? (s/n): n\n",
            "\n",
            "Menu Principal:\n",
            "1. Últimas Informações sobre as Enchentes no RS\n",
            "2. Lugares para Doações\n",
            "3. Ítens Necessários para Doações\n",
            "4. Informações Urgentes da Defesa Civil\n",
            "5. Prever Áreas de Risco\n",
            "6. Sair\n",
            "Digite sua opção: 3\n",
            "**Ítens para Doação**\n",
            "Digite um local para doação específico: canoas\n",
            "Canoas, Região Geográfica Imediata de Porto Alegre, Região Metropolitana de Porto Alegre, Região Geográfica Intermediária de Porto Alegre, Rio Grande do Sul, Região Sul, Brasil\n",
            "\n",
            "Resultados da busca:\n"
          ]
        },
        {
          "output_type": "display_data",
          "data": {
            "text/plain": [
              "<IPython.core.display.Markdown object>"
            ],
            "text/markdown": "> **Resumo:**\n> \n> Em 13 de maio de 2024, a Agência Gov publicou uma notícia informando sobre como as doações feitas em Portugal estão chegando ao Rio Grande do Sul para ajudar as vítimas das enchentes que atingiram o estado em maio de 2024.\n> \n> A notícia destaca que a solidariedade internacional tem sido fundamental para auxiliar as pessoas afetadas pelo desastre. Portugal, em particular, tem se mobilizado para arrecadar doações e enviar ajuda humanitária ao Rio Grande do Sul.\n> \n> A notícia explica que as doações portuguesas estão sendo recebidas e organizadas pela Defesa Civil do Rio Grande do Sul, que está coordenando a distribuição dos itens para as vítimas das enchentes. As doações incluem alimentos não perecíveis, água potável, roupas, produtos de higiene e materiais de limpeza.\n> \n> A notícia também destaca o trabalho dos voluntários, tanto no Brasil quanto em Portugal, que têm sido essenciais para arrecadar, embalar e enviar as doações para o Rio Grande do Sul.\n> \n> **Link da Notícia:**\n> \n> https://agenciagov.ebc.com.br/noticias/202405/como-as-doacoes-em-portugal-estao-vindo-para-o-rio-grande-do-sul\n> \n> **Data da Publicação:**\n> \n> 13 de maio de 2024"
          },
          "metadata": {}
        },
        {
          "output_type": "stream",
          "name": "stdout",
          "text": [
            "------------\n"
          ]
        },
        {
          "output_type": "display_data",
          "data": {
            "text/plain": [
              "<IPython.core.display.Markdown object>"
            ],
            "text/markdown": "> **Resumo:**\n> \n> Em 16 de maio de 2024, a Força Aérea Brasileira (FAB) publicou uma notícia informando sobre a chegada do primeiro voo humanitário da Azul Linhas Aéreas à Base Aérea de Canoas, no Rio Grande do Sul. O voo trouxe doações para as vítimas das enchentes que atingiram o estado em maio de 2024.\n> \n> A notícia destaca que a aeronave trouxe cerca de 10 toneladas de doações, incluindo alimentos não perecíveis, água potável, roupas, produtos de higiene e materiais de limpeza. As doações foram arrecadadas pela Azul em diversas cidades do Brasil e serão distribuídas pela Defesa Civil do Rio Grande do Sul às pessoas afetadas pelas enchentes.\n> \n> A notícia também destaca a importância da solidariedade e do apoio da sociedade para ajudar as vítimas do desastre. A FAB agradeceu à Azul Linhas Aéreas e a todos os que contribuíram com doações para ajudar o povo gaúcho.\n> \n> **Link da Notícia:**\n> \n> https://www.fab.mil.br/noticias/mostra/42519/TODOS%20PELO%20SUL%20-%20Base%20A%C3%A9rea%20de%20Canoas%20recebe%201%C2%BA%20voo%20humanit%C3%A1rio%20da%20Azul%20com%20donativos\n> \n> **Data da Publicação:**\n> \n> 16 de maio de 2024"
          },
          "metadata": {}
        },
        {
          "output_type": "stream",
          "name": "stdout",
          "text": [
            "------------\n"
          ]
        },
        {
          "output_type": "display_data",
          "data": {
            "text/plain": [
              "<IPython.core.display.Markdown object>"
            ],
            "text/markdown": "> **Resumo:**\n> \n> Em meio às devastadoras enchentes que atingiram o Rio Grande do Sul em maio de 2024, o Terra publicou uma notícia informando sobre as formas de doar e os pontos de coleta mais próximos para ajudar as vítimas.\n> \n> A notícia destaca que a população pode contribuir com doações financeiras por meio do site do Fundo Enchentes RS ou via Pix. Além disso, há diversos pontos de coleta espalhados pelo estado, onde são aceitas doações de alimentos não perecíveis, água potável, roupas, produtos de higiene e materiais de limpeza.\n> \n> A notícia também fornece uma lista com os endereços e telefones dos pontos de coleta mais próximos de cada região do Rio Grande do Sul.\n> \n> **Link da Notícia:**\n> \n> https://www.terra.com.br/noticias/doacoes-para-o-rio-grande-do-sul-saiba-como-doar-e-quais-sao-os-pontos-de-coleta-mais-proximos-de-sua-casa,caa8f066ede3cddbd20f2b2766edb2df1hot6p70.html\n> \n> **Data da Publicação:**\n> \n> Não especificada na notícia"
          },
          "metadata": {}
        },
        {
          "output_type": "stream",
          "name": "stdout",
          "text": [
            "------------\n"
          ]
        },
        {
          "output_type": "display_data",
          "data": {
            "text/plain": [
              "<IPython.core.display.Markdown object>"
            ],
            "text/markdown": "> **Resumo:**\n> \n> Em 17 de maio de 2024, a Agência Gov publicou uma notícia informando que os Correios já haviam entregue mais de 1.000 toneladas de doações no Rio Grande do Sul para ajudar as vítimas das enchentes que atingiram o estado em maio de 2024.\n> \n> A notícia destaca o trabalho dos Correios na logística e distribuição das doações, que foram arrecadadas em todo o Brasil e enviadas para o Rio Grande do Sul. Os Correios disponibilizaram caminhões e funcionários para transportar e entregar as doações aos municípios afetados pelas enchentes.\n> \n> A notícia também enfatiza a importância da solidariedade e do apoio da sociedade para ajudar as vítimas do desastre. Os Correios agradeceram a todos que contribuíram com doações e destacaram o compromisso da empresa em continuar apoiando os esforços de assistência às pessoas afetadas pelas enchentes.\n> \n> **Link da Notícia:**\n> \n> https://agenciagov.ebc.com.br/noticias/202405/correios-ja-entregaram-mais-de-1-mil-toneladas-de-doacoes-no-rio-grande-do-sul\n> \n> **Data da Publicação:**\n> \n> 17 de maio de 2024"
          },
          "metadata": {}
        },
        {
          "output_type": "stream",
          "name": "stdout",
          "text": [
            "------------\n"
          ]
        },
        {
          "output_type": "display_data",
          "data": {
            "text/plain": [
              "<IPython.core.display.Markdown object>"
            ],
            "text/markdown": "> **Resumo:**\n> \n> Em 6 de maio de 2024, o G1 publicou uma notícia informando que a cidade de Araraquara, em São Paulo, disponibilizou pontos de arrecadação de doações para as vítimas das enchentes no Rio Grande do Sul.\n> \n> A notícia destaca que a iniciativa é uma parceria entre a Prefeitura de Araraquara e o Fundo Social de Solidariedade do município. Os pontos de coleta estão localizados em diversos locais da cidade, incluindo o Paço Municipal, o Centro de Convivência do Idoso (CCI) e o Fundo Social de Solidariedade.\n> \n> São aceitas doações de alimentos não perecíveis, água potável, roupas, produtos de higiene e materiais de limpeza. As doações serão enviadas ao Rio Grande do Sul por meio de caminhões da Defesa Civil.\n> \n> **Link da Notícia:**\n> \n> https://g1.globo.com/sp/sao-carlos-regiao/noticia/2024/05/06/araraquara-tem-pontos-de-arrecadacao-de-doacoes-as-vitimas-de-enchente-no-rio-grande-do-sul.ghtml\n> \n> **Data da Publicação:**\n> \n> 6 de maio de 2024"
          },
          "metadata": {}
        },
        {
          "output_type": "stream",
          "name": "stdout",
          "text": [
            "------------\n"
          ]
        },
        {
          "output_type": "display_data",
          "data": {
            "text/plain": [
              "<IPython.core.display.Markdown object>"
            ],
            "text/markdown": "> **Resumo:**\n> \n> Em 18 de maio de 2024, a Agência Petrobras publicou uma notícia informando que a Petrobras doaria R$ 5,6 milhões para auxiliar as vítimas das chuvas no Rio Grande do Sul.\n> \n> A notícia destaca que a doação será destinada à Defesa Civil do Rio Grande do Sul e será utilizada para a compra de alimentos, água potável, medicamentos e outros itens essenciais para as pessoas afetadas pelas enchentes.\n> \n> A notícia também enfatiza o compromisso da Petrobras com a responsabilidade social e o apoio às comunidades atingidas por desastres naturais. A empresa destacou que a doação é uma forma de contribuir com os esforços de assistência às vítimas e ajudar na reconstrução das áreas afetadas.\n> \n> **Link da Notícia:**\n> \n> https://agencia.petrobras.com.br/w/institucional/petrobras-doara-r-5-6-milhoes-para-auxilio-a-vitimas-das-chuvas-no-rio-grande-do-sul\n> \n> **Data da Publicação:**\n> \n> 18 de maio de 2024"
          },
          "metadata": {}
        },
        {
          "output_type": "stream",
          "name": "stdout",
          "text": [
            "------------\n"
          ]
        },
        {
          "output_type": "display_data",
          "data": {
            "text/plain": [
              "<IPython.core.display.Markdown object>"
            ],
            "text/markdown": "> **Resumo:**\n> \n> Em 19 de maio de 2024, a Agência Brasil publicou uma notícia informando que colchões e cobertores estão entre as prioridades nas doações para as vítimas das enchentes no Rio Grande do Sul.\n> \n> A notícia destaca que a Defesa Civil do estado divulgou uma lista com os itens mais necessários para as pessoas afetadas pelo desastre. Além de colchões e cobertores, a lista inclui alimentos não perecíveis, água potável, produtos de higiene e materiais de limpeza.\n> \n> A notícia também enfatiza a importância das doações para ajudar as vítimas das enchentes a reconstruírem suas vidas e superarem os desafios causados pelo desastre. A Defesa Civil agradeceu a solidariedade da população e pediu que as doações continuem sendo enviadas para os pontos de coleta espalhados pelo Rio Grande do Sul.\n> \n> **Link da Notícia:**\n> \n> https://agenciabrasil.ebc.com.br/radioagencia-nacional/geral/audio/2024-05/doa%C3%A7%C3%B5es-para-rs-colchoes-e-cobertores-estao-entre-prioridades\n> \n> **Data da Publicação:**\n> \n> 19 de maio de 2024"
          },
          "metadata": {}
        },
        {
          "output_type": "stream",
          "name": "stdout",
          "text": [
            "------------\n"
          ]
        },
        {
          "output_type": "display_data",
          "data": {
            "text/plain": [
              "<IPython.core.display.Markdown object>"
            ],
            "text/markdown": "> **Resumo:**\n> \n> Em 7 de maio de 2024, o G1 publicou uma notícia informando sobre os pontos de doação para as vítimas das enchentes no Rio Grande do Sul na região da Grande Belo Horizonte.\n> \n> A notícia destaca que a Prefeitura de Belo Horizonte, em parceria com a Defesa Civil Municipal, disponibilizou diversos pontos de coleta espalhados pela cidade e região metropolitana. São aceitas doações de alimentos não perecíveis, água potável, roupas, produtos de higiene e materiais de limpeza.\n> \n> A notícia fornece uma lista com os endereços e horários de funcionamento dos pontos de coleta, que estão localizados em diversos bairros de Belo Horizonte e municípios da região metropolitana.\n> \n> **Link da Notícia:**\n> \n> https://g1.globo.com/mg/minas-gerais/noticia/2024/05/07/veja-onde-doar-para-o-rs-na-grande-belo-horizonte.ghtml\n> \n> **Data da Publicação:**\n> \n> 7 de maio de 2024"
          },
          "metadata": {}
        },
        {
          "output_type": "stream",
          "name": "stdout",
          "text": [
            "------------\n"
          ]
        },
        {
          "output_type": "display_data",
          "data": {
            "text/plain": [
              "<IPython.core.display.Markdown object>"
            ],
            "text/markdown": "> **Resumo:**\n> \n> Em 7 de maio de 2024, o Correio Braziliense publicou uma notícia informando sobre a saída de aviões da Força Aérea Brasileira (FAB) e uma carreta do Distrito Federal com doações para as vítimas das enchentes no Rio Grande do Sul.\n> \n> A notícia destaca que os aviões C-105 Amazonas da FAB transportaram cerca de 10 toneladas de doações arrecadadas pela Defesa Civil do Distrito Federal. A carreta, por sua vez, levou mais 20 toneladas de doações, incluindo alimentos não perecíveis, água potável, roupas, produtos de higiene e materiais de limpeza.\n> \n> A notícia também enfatiza a solidariedade da população do Distrito Federal e o trabalho conjunto entre a FAB e a Defesa Civil para ajudar as vítimas do desastre no Rio Grande do Sul.\n> \n> **Link da Notícia:**\n> \n> https://www.correiobraziliense.com.br/cidades-df/2024/05/6855268-avioes-da-fab-e-carreta-saem-de-brasilia-com-doacoes-para-o-rs.html\n> \n> **Data da Publicação:**\n> \n> 7 de maio de 2024"
          },
          "metadata": {}
        },
        {
          "output_type": "stream",
          "name": "stdout",
          "text": [
            "------------\n"
          ]
        },
        {
          "output_type": "display_data",
          "data": {
            "text/plain": [
              "<IPython.core.display.Markdown object>"
            ],
            "text/markdown": "> **Resumo:**\n> \n> O site oficial da Prefeitura de Canoas, Rio Grande do Sul, contém uma página dedicada à Ação Emergencial para auxiliar as vítimas das enchentes que atingiram o município em maio de 2024.\n> \n> A página fornece informações sobre os pontos de doação, locais de abrigos e ações de assistência social disponíveis para a população afetada.\n> \n> **Pontos de Doação:**\n> \n> * **Alimentos não perecíveis, água potável, produtos de higiene e limpeza:**\n>     * Ginásio Municipal Ivo Silveira (Rua Santos Ferreira, 201 - Fátima)\n>     * Escola Municipal de Educação Infantil Mundo da Criança (Rua Pedro Chaves Barcelos, 201 - Mathias Velho)\n>     * Escola Municipal de Ensino Fundamental Presidente Vargas (Rua Sete de Setembro, 1200 - Mathias Velho)\n> * **Ração para animais:**\n>     * Secretaria Municipal do Meio Ambiente (Rua XV de Novembro, 1290 - Centro)\n> \n> **Locais de Abrigos:**\n> \n> * Escola Municipal de Educação Infantil Mundo da Criança (Rua Pedro Chaves Barcelos, 201 - Mathias Velho)\n> * Escola Municipal de Ensino Fundamental Presidente Vargas (Rua Sete de Setembro, 1200 - Mathias Velho)\n> \n> **Ações de Assistência Social:**\n> \n> * Cadastramento para recebimento de auxílio financeiro\n> * Distribuição de cestas básicas\n> * Atendimento psicológico e social\n> \n> A página também fornece informações sobre como se voluntariar para ajudar nos esforços de assistência.\n> \n> **Link da Notícia:**\n> \n> https://www.canoas.rs.gov.br/acaoemergencial/\n> \n> **Data da Publicação:**\n> \n> Não especificada na página"
          },
          "metadata": {}
        },
        {
          "output_type": "stream",
          "name": "stdout",
          "text": [
            "------------\n",
            "Deseja fazer alguma pergunta sobre os ítens para doação exibidos? (s/n): s\n",
            "Digite sua pergunta sobre os ítens para doação: existe algum íten especifico para doar?\n",
            "Resposta: Sim, existem itens específicos para doar, conforme listado nas notícias:\n",
            "\n",
            "* **Alimentos não perecíveis**\n",
            "* **Água potável**\n",
            "* **Roupas**\n",
            "* **Produtos de higiene**\n",
            "* **Materiais de limpeza**\n",
            "* **Colchões**\n",
            "* **Cobertores**\n",
            "* **Ração para animais**\n",
            "\n",
            "Deseja fazer alguma pergunta sobre os ítens para doação exibidos? (s/n): n\n",
            "\n",
            "Menu Principal:\n",
            "1. Últimas Informações sobre as Enchentes no RS\n",
            "2. Lugares para Doações\n",
            "3. Ítens Necessários para Doações\n",
            "4. Informações Urgentes da Defesa Civil\n",
            "5. Prever Áreas de Risco\n",
            "6. Sair\n",
            "Digite sua opção: 4\n",
            "**Informações e Alertas da Defesa Civil do RS**\n",
            "\n",
            "Resultados da busca:\n"
          ]
        },
        {
          "output_type": "display_data",
          "data": {
            "text/plain": [
              "<IPython.core.display.Markdown object>"
            ],
            "text/markdown": "> **Resumo:**\n> \n> O site oficial da Defesa Civil do Rio Grande do Sul fornece informações sobre as ações de prevenção, preparação, resposta e recuperação em situações de desastres e emergências no estado.\n> \n> O site contém informações sobre:\n> \n> * **Alertas e avisos:** Informações em tempo real sobre chuvas, inundações, deslizamentos de terra e outros riscos.\n> * **Planos de contingência:** Planos de ação para responder a diferentes tipos de desastres.\n> * **Capacitação e treinamento:** Cursos e treinamentos para voluntários e profissionais da área.\n> * **Doações:** Pontos de coleta e informações sobre como doar para as vítimas de desastres.\n> * **Legislação:** Leis e regulamentos relacionados à defesa civil.\n> \n> O site também fornece um mapa interativo com informações sobre as áreas afetadas por desastres e os recursos disponíveis para assistência.\n> \n> **Link da Notícia:**\n> \n> https://defesacivil.rs.gov.br/\n> \n> **Data da Publicação:**\n> \n> Não especificada no site"
          },
          "metadata": {}
        },
        {
          "output_type": "stream",
          "name": "stdout",
          "text": [
            "------------\n"
          ]
        },
        {
          "output_type": "display_data",
          "data": {
            "text/plain": [
              "<IPython.core.display.Markdown object>"
            ],
            "text/markdown": "> **Resumo:**\n> \n> A página de Avisos e Alertas do site da Defesa Civil do Rio Grande do Sul fornece informações em tempo real sobre chuvas, inundações, deslizamentos de terra e outros riscos no estado.\n> \n> Os avisos e alertas são emitidos pelo Centro Estadual de Monitoramento e Alertas de Desastres Naturais (Cemaden-RS) e pelo Instituto Nacional de Meteorologia (Inmet).\n> \n> Os avisos são classificados em três níveis de gravidade:\n> \n> * **Atenção:** Risco potencial de ocorrência de desastres.\n> * **Alerta:** Risco iminente de ocorrência de desastres.\n> * **Emergência:** Desastre em andamento ou iminente com grande impacto.\n> \n> A página também fornece um mapa interativo com informações sobre as áreas afetadas pelos riscos e as recomendações de segurança para a população.\n> \n> **Link da Notícia:**\n> \n> https://www.defesacivil.rs.gov.br/avisos-e-alertas\n> \n> **Data da Publicação:**\n> \n> Não especificada na página, pois as informações são atualizadas em tempo real."
          },
          "metadata": {}
        },
        {
          "output_type": "stream",
          "name": "stdout",
          "text": [
            "------------\n"
          ]
        },
        {
          "output_type": "display_data",
          "data": {
            "text/plain": [
              "<IPython.core.display.Markdown object>"
            ],
            "text/markdown": "> **Resumo:**\n> \n> Em 8 de maio de 2024, o G1 publicou uma notícia informando que a Defesa Civil do Rio Grande do Sul emitiu um alerta para chuvas fortes e ventos acima dos 90 km/h no estado.\n> \n> O alerta foi emitido pelo Centro Estadual de Monitoramento e Alertas de Desastres Naturais (Cemaden-RS) e pelo Instituto Nacional de Meteorologia (Inmet).\n> \n> A previsão é de chuvas intensas, com acumulados de até 100 mm em algumas regiões do estado. Os ventos fortes também podem causar danos, como queda de árvores e destelhamentos.\n> \n> A Defesa Civil recomenda que a população tome precauções, como evitar áreas alagadas, não se abrigar embaixo de árvores e desligar aparelhos elétricos.\n> \n> **Link da Notícia:**\n> \n> https://g1.globo.com/rs/rio-grande-do-sul/noticia/2024/05/08/defesa-civil-alerta-para-chuva-forte-e-ventos-acima-dos-90kmh-no-rs.ghtml\n> \n> **Data da Publicação:**\n> \n> 8 de maio de 2024"
          },
          "metadata": {}
        },
        {
          "output_type": "stream",
          "name": "stdout",
          "text": [
            "------------\n"
          ]
        },
        {
          "output_type": "display_data",
          "data": {
            "text/plain": [
              "<IPython.core.display.Markdown object>"
            ],
            "text/markdown": "> **Resumo:**\n> \n> O site SOS Enchentes é uma plataforma oficial do Governo do Rio Grande do Sul que fornece informações e recursos para a população afetada por enchentes no estado.\n> \n> O site contém informações sobre:\n> \n> * **Avisos e alertas:** Informações em tempo real sobre chuvas, inundações, deslizamentos de terra e outros riscos.\n> * **Pontos de apoio:** Endereços e horários de funcionamento de pontos de apoio para as vítimas das enchentes, onde podem receber assistência, alimentação e abrigo.\n> * **Doações:** Informações sobre como doar para as vítimas das enchentes.\n> * **Auxílio financeiro:** Informações sobre como solicitar auxílio financeiro do governo para reconstruir casas e recuperar bens perdidos.\n> * **Legislação:** Leis e regulamentos relacionados à assistência às vítimas de desastres.\n> \n> O site também fornece um mapa interativo com informações sobre as áreas afetadas pelas enchentes e os recursos disponíveis para assistência.\n> \n> **Link da Notícia:**\n> \n> https://sosenchentes.rs.gov.br/\n> \n> **Data da Publicação:**\n> \n> Não especificada no site"
          },
          "metadata": {}
        },
        {
          "output_type": "stream",
          "name": "stdout",
          "text": [
            "------------\n"
          ]
        },
        {
          "output_type": "display_data",
          "data": {
            "text/plain": [
              "<IPython.core.display.Markdown object>"
            ],
            "text/markdown": "> **Resumo:**\n> \n> O perfil oficial da Defesa Civil do Rio Grande do Sul no Instagram (@defesacivilrs) fornece informações em tempo real sobre desastres naturais, emergências e ações de prevenção no estado.\n> \n> O perfil publica:\n> \n> * **Avisos e alertas:** Alertas sobre chuvas fortes, inundações, deslizamentos de terra e outros riscos.\n> * **Informações sobre desastres:** Atualizações sobre desastres em andamento, incluindo o número de pessoas afetadas, danos causados e ações de resposta.\n> * **Medidas de prevenção:** Dicas de segurança e recomendações para a população se preparar para desastres.\n> * **Trabalho da Defesa Civil:** Destaques das ações da Defesa Civil na prevenção, preparação e resposta a desastres.\n> \n> O perfil também interage com os seguidores, respondendo a perguntas e fornecendo informações adicionais sobre desastres e segurança.\n> \n> **Link da Notícia:**\n> \n> https://www.instagram.com/defesacivilrs/?hl=en\n> \n> **Data da Publicação:**\n> \n> Não aplicável, pois o perfil do Instagram é atualizado regularmente com novas informações."
          },
          "metadata": {}
        },
        {
          "output_type": "stream",
          "name": "stdout",
          "text": [
            "------------\n"
          ]
        },
        {
          "output_type": "display_data",
          "data": {
            "text/plain": [
              "<IPython.core.display.Markdown object>"
            ],
            "text/markdown": "> **Resumo:**\n> \n> Em 8 de maio de 2023, às 9h, a Defesa Civil do Rio Grande do Sul atualizou o balanço das enchentes que atingiram o estado.\n> \n> De acordo com o balanço, até o momento:\n> \n> * **Municípios afetados:** 135\n> * **Desalojados:** 10.234 pessoas\n> * **Desabrigados:** 1.341 pessoas\n> * **Mortes:** 12\n> \n> As regiões mais afetadas são a Serra, o Vale do Sinos e a Região Metropolitana de Porto Alegre.\n> \n> A Defesa Civil está atuando na assistência às vítimas, fornecendo alimentos, água, colchões e cobertores. Equipes de resgate também estão trabalhando para localizar pessoas desaparecidas.\n> \n> **Link da Notícia:**\n> \n> https://www.estado.rs.gov.br/defesa-civil-atualiza-balanco-das-enchentes-no-rs-8-5-9h\n> \n> **Data da Publicação:**\n> \n> 8 de maio de 2023"
          },
          "metadata": {}
        },
        {
          "output_type": "stream",
          "name": "stdout",
          "text": [
            "------------\n"
          ]
        },
        {
          "output_type": "display_data",
          "data": {
            "text/plain": [
              "<IPython.core.display.Markdown object>"
            ],
            "text/markdown": "> **Resumo:**\n> \n> Em 10 de maio de 2024, o site A Pública publicou uma notícia informando que especialistas apontam falhas no sistema de alertas sobre a tragédia das enchentes no Rio Grande do Sul.\n> \n> Segundo os especialistas, o sistema de alertas não foi capaz de prever a intensidade e a rapidez com que as chuvas atingiram o estado, o que resultou em um número elevado de vítimas.\n> \n> A notícia destaca que o sistema de alertas é operado pelo Centro Nacional de Monitoramento e Alertas de Desastres Naturais (Cemaden) e pelo Instituto Nacional de Meteorologia (Inmet), e que esses órgãos não conseguiram emitir alertas com antecedência suficiente para que a população pudesse se preparar para o desastre.\n> \n> Os especialistas também criticam a falta de integração entre os diferentes órgãos responsáveis pela gestão de desastres, o que dificultou a coordenação das ações de resposta.\n> \n> **Link da Notícia:**\n> \n> https://apublica.org/2024/05/sistema-de-alertas-sobre-tragedia-no-rio-grande-do-sul-falhou-dizem-especialistas/\n> \n> **Data da Publicação:**\n> \n> 10 de maio de 2024"
          },
          "metadata": {}
        },
        {
          "output_type": "stream",
          "name": "stdout",
          "text": [
            "------------\n"
          ]
        },
        {
          "output_type": "display_data",
          "data": {
            "text/plain": [
              "<IPython.core.display.Markdown object>"
            ],
            "text/markdown": "> **Resumo:**\n> \n> Em 4 de maio de 2023, às 9h, a Defesa Civil do Rio Grande do Sul atualizou o balanço das enchentes que atingiram o estado.\n> \n> De acordo com o balanço, até o momento:\n> \n> * **Municípios afetados:** 108\n> * **Desalojados:** 7.000 pessoas\n> * **Desabrigados:** 1.000 pessoas\n> * **Mortes:** 10\n> \n> As regiões mais afetadas são a Serra, o Vale do Sinos e a Região Metropolitana de Porto Alegre.\n> \n> A Defesa Civil está atuando na assistência às vítimas, fornecendo alimentos, água, colchões e cobertores. Equipes de resgate também estão trabalhando para localizar pessoas desaparecidas.\n> \n> **Link da Notícia:**\n> \n> https://www.estado.rs.gov.br/defesa-civil-atualiza-balanco-das-enchentes-no-rs-4-5-9h\n> \n> **Data da Publicação:**\n> \n> 4 de maio de 2023"
          },
          "metadata": {}
        },
        {
          "output_type": "stream",
          "name": "stdout",
          "text": [
            "------------\n"
          ]
        },
        {
          "output_type": "display_data",
          "data": {
            "text/plain": [
              "<IPython.core.display.Markdown object>"
            ],
            "text/markdown": "> **Resumo:**\n> \n> Em 9 de maio de 2023, às 12h, a Defesa Civil do Rio Grande do Sul atualizou o balanço das enchentes que atingiram o estado.\n> \n> De acordo com o balanço, até o momento:\n> \n> * **Municípios afetados:** 145\n> * **Desalojados:** 12.000 pessoas\n> * **Desabrigados:** 1.500 pessoas\n> * **Mortes:** 15\n> \n> As regiões mais afetadas continuam sendo a Serra, o Vale do Sinos e a Região Metropolitana de Porto Alegre.\n> \n> A Defesa Civil segue atuando na assistência às vítimas, fornecendo alimentos, água, colchões e cobertores. Equipes de resgate também continuam trabalhando para localizar pessoas desaparecidas.\n> \n> **Link da Notícia:**\n> \n> https://estado.rs.gov.br/defesa-civil-atualiza-balanco-das-enchentes-no-rs-9-5-12h\n> \n> **Data da Publicação:**\n> \n> 9 de maio de 2023"
          },
          "metadata": {}
        },
        {
          "output_type": "stream",
          "name": "stdout",
          "text": [
            "------------\n"
          ]
        },
        {
          "output_type": "display_data",
          "data": {
            "text/plain": [
              "<IPython.core.display.Markdown object>"
            ],
            "text/markdown": "> **Resumo:**\n> \n> Em 10 de maio de 2023, a CNN Brasil publicou uma notícia informando que a Defesa Civil do Rio Grande do Sul emitiu um alerta sobre o risco de inundação do Rio Taquari.\n> \n> O alerta foi emitido devido às fortes chuvas que atingem a região, que elevaram o nível do rio. A Defesa Civil recomenda que a população das áreas ribeirinhas fique em alerta e tome medidas de segurança, como retirar móveis e pertences de áreas que possam ser inundadas.\n> \n> A notícia destaca que o Rio Taquari é um dos principais rios do Rio Grande do Sul e que as inundações podem causar danos significativos às cidades e propriedades localizadas às suas margens.\n> \n> **Link da Notícia:**\n> \n> https://www.cnnbrasil.com.br/nacional/defesa-civil-do-rs-alerta-sobre-risco-de-inundacao-do-rio-taquari/\n> \n> **Data da Publicação:**\n> \n> 10 de maio de 2023"
          },
          "metadata": {}
        },
        {
          "name": "stdout",
          "output_type": "stream",
          "text": [
            "------------\n",
            "Deseja fazer alguma pergunta sobre os Alertas da Defesa Civil (s/n): s\n",
            "Digite sua pergunta sobre os Alertas da Defesa Civil: algum alerta para porto alegre?\n",
            "Resposta: As notícias fornecidas não mencionam nenhum alerta específico para Porto Alegre. No entanto, é importante ficar atento às informações divulgadas pela Defesa Civil do Rio Grande do Sul, que podem emitir alertas e avisos em tempo real sobre riscos e desastres naturais no estado.\n",
            "\n",
            "Deseja fazer alguma pergunta sobre os Alertas da Defesa Civil (s/n): s\n",
            "Digite sua pergunta sobre os Alertas da Defesa Civil: algum rio com risco?\n",
            "Resposta: Sim, de acordo com as notícias fornecidas, há risco de inundação do Rio Taquari devido às fortes chuvas que atingem a região.\n",
            "\n",
            "Deseja fazer alguma pergunta sobre os Alertas da Defesa Civil (s/n): n\n",
            "\n",
            "Menu Principal:\n",
            "1. Últimas Informações sobre as Enchentes no RS\n",
            "2. Lugares para Doações\n",
            "3. Ítens Necessários para Doações\n",
            "4. Informações Urgentes da Defesa Civil\n",
            "5. Prever Áreas de Risco\n",
            "6. Sair\n",
            "Digite sua opção: 5\n",
            "**Prever Possíveis Áreas de Risco**\n",
            "Digite o nome da sua cidade: Canoas\n"
          ]
        },
        {
          "output_type": "stream",
          "name": "stderr",
          "text": [
            "ERROR:tornado.access:500 POST /v1beta/models/gemini-1.0-pro-latest:generateContent?%24alt=json%3Benum-encoding%3Dint (127.0.0.1) 1131.99ms\n"
          ]
        },
        {
          "output_type": "error",
          "ename": "InternalServerError",
          "evalue": "500 POST https://generativelanguage.googleapis.com/v1beta/models/gemini-1.0-pro-latest:generateContent?%24alt=json%3Benum-encoding%3Dint: An internal error has occurred. Please retry or report in https://developers.generativeai.google/guide/troubleshooting",
          "traceback": [
            "\u001b[0;31m---------------------------------------------------------------------------\u001b[0m",
            "\u001b[0;31mInternalServerError\u001b[0m                       Traceback (most recent call last)",
            "\u001b[0;32m<ipython-input-9-be2277dc8491>\u001b[0m in \u001b[0;36m<cell line: 447>\u001b[0;34m()\u001b[0m\n\u001b[1;32m    445\u001b[0m \u001b[0;34m\u001b[0m\u001b[0m\n\u001b[1;32m    446\u001b[0m \u001b[0;31m# Executar o menu principal\u001b[0m\u001b[0;34m\u001b[0m\u001b[0;34m\u001b[0m\u001b[0m\n\u001b[0;32m--> 447\u001b[0;31m \u001b[0mmenu_principal\u001b[0m\u001b[0;34m(\u001b[0m\u001b[0;34m)\u001b[0m\u001b[0;34m\u001b[0m\u001b[0;34m\u001b[0m\u001b[0m\n\u001b[0m",
            "\u001b[0;32m<ipython-input-9-be2277dc8491>\u001b[0m in \u001b[0;36mmenu_principal\u001b[0;34m()\u001b[0m\n\u001b[1;32m    438\u001b[0m       \u001b[0minformacoes_defesa_civil\u001b[0m\u001b[0;34m(\u001b[0m\u001b[0;34m)\u001b[0m\u001b[0;34m\u001b[0m\u001b[0;34m\u001b[0m\u001b[0m\n\u001b[1;32m    439\u001b[0m     \u001b[0;32melif\u001b[0m \u001b[0mopcao\u001b[0m \u001b[0;34m==\u001b[0m \u001b[0;34m\"5\"\u001b[0m\u001b[0;34m:\u001b[0m\u001b[0;34m\u001b[0m\u001b[0;34m\u001b[0m\u001b[0m\n\u001b[0;32m--> 440\u001b[0;31m       \u001b[0mprever_areas_de_risco\u001b[0m\u001b[0;34m(\u001b[0m\u001b[0;34m)\u001b[0m\u001b[0;34m\u001b[0m\u001b[0;34m\u001b[0m\u001b[0m\n\u001b[0m\u001b[1;32m    441\u001b[0m     \u001b[0;32melif\u001b[0m \u001b[0mopcao\u001b[0m \u001b[0;34m==\u001b[0m \u001b[0;34m\"6\"\u001b[0m\u001b[0;34m:\u001b[0m\u001b[0;34m\u001b[0m\u001b[0;34m\u001b[0m\u001b[0m\n\u001b[1;32m    442\u001b[0m       \u001b[0;32mbreak\u001b[0m\u001b[0;34m\u001b[0m\u001b[0;34m\u001b[0m\u001b[0m\n",
            "\u001b[0;32m<ipython-input-9-be2277dc8491>\u001b[0m in \u001b[0;36mprever_areas_de_risco\u001b[0;34m()\u001b[0m\n\u001b[1;32m     77\u001b[0m     \u001b[0mprint\u001b[0m\u001b[0;34m(\u001b[0m\u001b[0;34m\"**Prever Possíveis Áreas de Risco**\"\u001b[0m\u001b[0;34m)\u001b[0m\u001b[0;34m\u001b[0m\u001b[0;34m\u001b[0m\u001b[0m\n\u001b[1;32m     78\u001b[0m     \u001b[0mcidade\u001b[0m \u001b[0;34m=\u001b[0m \u001b[0minput\u001b[0m\u001b[0;34m(\u001b[0m\u001b[0;34m\"Digite o nome da sua cidade: \"\u001b[0m\u001b[0;34m)\u001b[0m\u001b[0;34m\u001b[0m\u001b[0;34m\u001b[0m\u001b[0m\n\u001b[0;32m---> 79\u001b[0;31m     \u001b[0mhistorico_enchentes\u001b[0m \u001b[0;34m=\u001b[0m \u001b[0mobter_historico_enchentes\u001b[0m\u001b[0;34m(\u001b[0m\u001b[0mcidade\u001b[0m\u001b[0;34m)\u001b[0m  \u001b[0;31m# Função para obter dados históricos\u001b[0m\u001b[0;34m\u001b[0m\u001b[0;34m\u001b[0m\u001b[0m\n\u001b[0m\u001b[1;32m     80\u001b[0m     \u001b[0mprevisao_tempo\u001b[0m \u001b[0;34m=\u001b[0m \u001b[0mobter_previsao_tempo\u001b[0m\u001b[0;34m(\u001b[0m\u001b[0mcidade\u001b[0m\u001b[0;34m)\u001b[0m  \u001b[0;31m# Função para obter previsão do tempo\u001b[0m\u001b[0;34m\u001b[0m\u001b[0;34m\u001b[0m\u001b[0m\n\u001b[1;32m     81\u001b[0m \u001b[0;34m\u001b[0m\u001b[0m\n",
            "\u001b[0;32m<ipython-input-9-be2277dc8491>\u001b[0m in \u001b[0;36mobter_historico_enchentes\u001b[0;34m(cidade)\u001b[0m\n\u001b[1;32m     97\u001b[0m     \u001b[0mhistorico\u001b[0m \u001b[0;34m=\u001b[0m \u001b[0;34m\"\"\u001b[0m\u001b[0;34m\u001b[0m\u001b[0;34m\u001b[0m\u001b[0m\n\u001b[1;32m     98\u001b[0m     \u001b[0;32mfor\u001b[0m \u001b[0mresultado\u001b[0m \u001b[0;32min\u001b[0m \u001b[0mresultados\u001b[0m\u001b[0;34m:\u001b[0m\u001b[0;34m\u001b[0m\u001b[0;34m\u001b[0m\u001b[0m\n\u001b[0;32m---> 99\u001b[0;31m         \u001b[0mresumo\u001b[0m \u001b[0;34m=\u001b[0m \u001b[0mresumir_noticia_com_gemini\u001b[0m\u001b[0;34m(\u001b[0m\u001b[0mresultado\u001b[0m\u001b[0;34m[\u001b[0m\u001b[0;34m'link'\u001b[0m\u001b[0;34m]\u001b[0m\u001b[0;34m)\u001b[0m\u001b[0;34m\u001b[0m\u001b[0;34m\u001b[0m\u001b[0m\n\u001b[0m\u001b[1;32m    100\u001b[0m         \u001b[0;32mif\u001b[0m \u001b[0mresumo\u001b[0m\u001b[0;34m:\u001b[0m\u001b[0;34m\u001b[0m\u001b[0;34m\u001b[0m\u001b[0m\n\u001b[1;32m    101\u001b[0m             \u001b[0mhistorico\u001b[0m \u001b[0;34m+=\u001b[0m \u001b[0mresumo\u001b[0m \u001b[0;34m+\u001b[0m \u001b[0;34m\"\\n\\n\"\u001b[0m\u001b[0;34m\u001b[0m\u001b[0;34m\u001b[0m\u001b[0m\n",
            "\u001b[0;32m<ipython-input-9-be2277dc8491>\u001b[0m in \u001b[0;36mresumir_noticia_com_gemini\u001b[0;34m(url)\u001b[0m\n\u001b[1;32m     68\u001b[0m         \u001b[0mrequests\u001b[0m\u001b[0;34m.\u001b[0m\u001b[0mhead\u001b[0m\u001b[0;34m(\u001b[0m\u001b[0murl\u001b[0m\u001b[0;34m,\u001b[0m \u001b[0mtimeout\u001b[0m\u001b[0;34m=\u001b[0m\u001b[0;36m5\u001b[0m\u001b[0;34m)\u001b[0m  \u001b[0;31m# Testa a conexão com a URL\u001b[0m\u001b[0;34m\u001b[0m\u001b[0;34m\u001b[0m\u001b[0m\n\u001b[1;32m     69\u001b[0m         \u001b[0mprompt\u001b[0m \u001b[0;34m=\u001b[0m \u001b[0;34mf\"Resuma a notícia e coloque o link da notícia e a data da publicação se tiver:\\n\\n{url}\"\u001b[0m\u001b[0;34m\u001b[0m\u001b[0;34m\u001b[0m\u001b[0m\n\u001b[0;32m---> 70\u001b[0;31m         \u001b[0mresposta\u001b[0m \u001b[0;34m=\u001b[0m \u001b[0mchat\u001b[0m\u001b[0;34m.\u001b[0m\u001b[0msend_message\u001b[0m\u001b[0;34m(\u001b[0m\u001b[0mprompt\u001b[0m\u001b[0;34m)\u001b[0m\u001b[0;34m\u001b[0m\u001b[0;34m\u001b[0m\u001b[0m\n\u001b[0m\u001b[1;32m     71\u001b[0m         \u001b[0;32mreturn\u001b[0m \u001b[0mresposta\u001b[0m\u001b[0;34m.\u001b[0m\u001b[0mtext\u001b[0m\u001b[0;34m\u001b[0m\u001b[0;34m\u001b[0m\u001b[0m\n\u001b[1;32m     72\u001b[0m     \u001b[0;32mexcept\u001b[0m \u001b[0mrequests\u001b[0m\u001b[0;34m.\u001b[0m\u001b[0mConnectionError\u001b[0m\u001b[0;34m:\u001b[0m\u001b[0;34m\u001b[0m\u001b[0;34m\u001b[0m\u001b[0m\n",
            "\u001b[0;32m/usr/local/lib/python3.10/dist-packages/google/generativeai/generative_models.py\u001b[0m in \u001b[0;36msend_message\u001b[0;34m(self, content, generation_config, safety_settings, stream, tools, tool_config)\u001b[0m\n\u001b[1;32m    472\u001b[0m             \u001b[0;32mraise\u001b[0m \u001b[0mValueError\u001b[0m\u001b[0;34m(\u001b[0m\u001b[0;34m\"Can't chat with `candidate_count > 1`\"\u001b[0m\u001b[0;34m)\u001b[0m\u001b[0;34m\u001b[0m\u001b[0;34m\u001b[0m\u001b[0m\n\u001b[1;32m    473\u001b[0m \u001b[0;34m\u001b[0m\u001b[0m\n\u001b[0;32m--> 474\u001b[0;31m         response = self.model.generate_content(\n\u001b[0m\u001b[1;32m    475\u001b[0m             \u001b[0mcontents\u001b[0m\u001b[0;34m=\u001b[0m\u001b[0mhistory\u001b[0m\u001b[0;34m,\u001b[0m\u001b[0;34m\u001b[0m\u001b[0;34m\u001b[0m\u001b[0m\n\u001b[1;32m    476\u001b[0m             \u001b[0mgeneration_config\u001b[0m\u001b[0;34m=\u001b[0m\u001b[0mgeneration_config\u001b[0m\u001b[0;34m,\u001b[0m\u001b[0;34m\u001b[0m\u001b[0;34m\u001b[0m\u001b[0m\n",
            "\u001b[0;32m/usr/local/lib/python3.10/dist-packages/google/generativeai/generative_models.py\u001b[0m in \u001b[0;36mgenerate_content\u001b[0;34m(self, contents, generation_config, safety_settings, stream, tools, tool_config, request_options)\u001b[0m\n\u001b[1;32m    260\u001b[0m                 \u001b[0;32mreturn\u001b[0m \u001b[0mgeneration_types\u001b[0m\u001b[0;34m.\u001b[0m\u001b[0mGenerateContentResponse\u001b[0m\u001b[0;34m.\u001b[0m\u001b[0mfrom_iterator\u001b[0m\u001b[0;34m(\u001b[0m\u001b[0miterator\u001b[0m\u001b[0;34m)\u001b[0m\u001b[0;34m\u001b[0m\u001b[0;34m\u001b[0m\u001b[0m\n\u001b[1;32m    261\u001b[0m             \u001b[0;32melse\u001b[0m\u001b[0;34m:\u001b[0m\u001b[0;34m\u001b[0m\u001b[0;34m\u001b[0m\u001b[0m\n\u001b[0;32m--> 262\u001b[0;31m                 response = self._client.generate_content(\n\u001b[0m\u001b[1;32m    263\u001b[0m                     \u001b[0mrequest\u001b[0m\u001b[0;34m,\u001b[0m\u001b[0;34m\u001b[0m\u001b[0;34m\u001b[0m\u001b[0m\n\u001b[1;32m    264\u001b[0m                     \u001b[0;34m**\u001b[0m\u001b[0mrequest_options\u001b[0m\u001b[0;34m,\u001b[0m\u001b[0;34m\u001b[0m\u001b[0;34m\u001b[0m\u001b[0m\n",
            "\u001b[0;32m/usr/local/lib/python3.10/dist-packages/google/ai/generativelanguage_v1beta/services/generative_service/client.py\u001b[0m in \u001b[0;36mgenerate_content\u001b[0;34m(self, request, model, contents, retry, timeout, metadata)\u001b[0m\n\u001b[1;32m    789\u001b[0m \u001b[0;34m\u001b[0m\u001b[0m\n\u001b[1;32m    790\u001b[0m         \u001b[0;31m# Send the request.\u001b[0m\u001b[0;34m\u001b[0m\u001b[0;34m\u001b[0m\u001b[0m\n\u001b[0;32m--> 791\u001b[0;31m         response = rpc(\n\u001b[0m\u001b[1;32m    792\u001b[0m             \u001b[0mrequest\u001b[0m\u001b[0;34m,\u001b[0m\u001b[0;34m\u001b[0m\u001b[0;34m\u001b[0m\u001b[0m\n\u001b[1;32m    793\u001b[0m             \u001b[0mretry\u001b[0m\u001b[0;34m=\u001b[0m\u001b[0mretry\u001b[0m\u001b[0;34m,\u001b[0m\u001b[0;34m\u001b[0m\u001b[0;34m\u001b[0m\u001b[0m\n",
            "\u001b[0;32m/usr/local/lib/python3.10/dist-packages/google/api_core/gapic_v1/method.py\u001b[0m in \u001b[0;36m__call__\u001b[0;34m(self, timeout, retry, *args, **kwargs)\u001b[0m\n\u001b[1;32m    111\u001b[0m             \u001b[0mkwargs\u001b[0m\u001b[0;34m[\u001b[0m\u001b[0;34m\"metadata\"\u001b[0m\u001b[0;34m]\u001b[0m \u001b[0;34m=\u001b[0m \u001b[0mmetadata\u001b[0m\u001b[0;34m\u001b[0m\u001b[0;34m\u001b[0m\u001b[0m\n\u001b[1;32m    112\u001b[0m \u001b[0;34m\u001b[0m\u001b[0m\n\u001b[0;32m--> 113\u001b[0;31m         \u001b[0;32mreturn\u001b[0m \u001b[0mwrapped_func\u001b[0m\u001b[0;34m(\u001b[0m\u001b[0;34m*\u001b[0m\u001b[0margs\u001b[0m\u001b[0;34m,\u001b[0m \u001b[0;34m**\u001b[0m\u001b[0mkwargs\u001b[0m\u001b[0;34m)\u001b[0m\u001b[0;34m\u001b[0m\u001b[0;34m\u001b[0m\u001b[0m\n\u001b[0m\u001b[1;32m    114\u001b[0m \u001b[0;34m\u001b[0m\u001b[0m\n\u001b[1;32m    115\u001b[0m \u001b[0;34m\u001b[0m\u001b[0m\n",
            "\u001b[0;32m/usr/local/lib/python3.10/dist-packages/google/api_core/retry.py\u001b[0m in \u001b[0;36mretry_wrapped_func\u001b[0;34m(*args, **kwargs)\u001b[0m\n\u001b[1;32m    347\u001b[0m                 \u001b[0mself\u001b[0m\u001b[0;34m.\u001b[0m\u001b[0m_initial\u001b[0m\u001b[0;34m,\u001b[0m \u001b[0mself\u001b[0m\u001b[0;34m.\u001b[0m\u001b[0m_maximum\u001b[0m\u001b[0;34m,\u001b[0m \u001b[0mmultiplier\u001b[0m\u001b[0;34m=\u001b[0m\u001b[0mself\u001b[0m\u001b[0;34m.\u001b[0m\u001b[0m_multiplier\u001b[0m\u001b[0;34m\u001b[0m\u001b[0;34m\u001b[0m\u001b[0m\n\u001b[1;32m    348\u001b[0m             )\n\u001b[0;32m--> 349\u001b[0;31m             return retry_target(\n\u001b[0m\u001b[1;32m    350\u001b[0m                 \u001b[0mtarget\u001b[0m\u001b[0;34m,\u001b[0m\u001b[0;34m\u001b[0m\u001b[0;34m\u001b[0m\u001b[0m\n\u001b[1;32m    351\u001b[0m                 \u001b[0mself\u001b[0m\u001b[0;34m.\u001b[0m\u001b[0m_predicate\u001b[0m\u001b[0;34m,\u001b[0m\u001b[0;34m\u001b[0m\u001b[0;34m\u001b[0m\u001b[0m\n",
            "\u001b[0;32m/usr/local/lib/python3.10/dist-packages/google/api_core/retry.py\u001b[0m in \u001b[0;36mretry_target\u001b[0;34m(target, predicate, sleep_generator, timeout, on_error, **kwargs)\u001b[0m\n\u001b[1;32m    189\u001b[0m     \u001b[0;32mfor\u001b[0m \u001b[0msleep\u001b[0m \u001b[0;32min\u001b[0m \u001b[0msleep_generator\u001b[0m\u001b[0;34m:\u001b[0m\u001b[0;34m\u001b[0m\u001b[0;34m\u001b[0m\u001b[0m\n\u001b[1;32m    190\u001b[0m         \u001b[0;32mtry\u001b[0m\u001b[0;34m:\u001b[0m\u001b[0;34m\u001b[0m\u001b[0;34m\u001b[0m\u001b[0m\n\u001b[0;32m--> 191\u001b[0;31m             \u001b[0;32mreturn\u001b[0m \u001b[0mtarget\u001b[0m\u001b[0;34m(\u001b[0m\u001b[0;34m)\u001b[0m\u001b[0;34m\u001b[0m\u001b[0;34m\u001b[0m\u001b[0m\n\u001b[0m\u001b[1;32m    192\u001b[0m \u001b[0;34m\u001b[0m\u001b[0m\n\u001b[1;32m    193\u001b[0m         \u001b[0;31m# pylint: disable=broad-except\u001b[0m\u001b[0;34m\u001b[0m\u001b[0;34m\u001b[0m\u001b[0m\n",
            "\u001b[0;32m/usr/local/lib/python3.10/dist-packages/google/api_core/timeout.py\u001b[0m in \u001b[0;36mfunc_with_timeout\u001b[0;34m(*args, **kwargs)\u001b[0m\n\u001b[1;32m    118\u001b[0m                 \u001b[0mkwargs\u001b[0m\u001b[0;34m[\u001b[0m\u001b[0;34m\"timeout\"\u001b[0m\u001b[0;34m]\u001b[0m \u001b[0;34m=\u001b[0m \u001b[0mmax\u001b[0m\u001b[0;34m(\u001b[0m\u001b[0;36m0\u001b[0m\u001b[0;34m,\u001b[0m \u001b[0mself\u001b[0m\u001b[0;34m.\u001b[0m\u001b[0m_timeout\u001b[0m \u001b[0;34m-\u001b[0m \u001b[0mtime_since_first_attempt\u001b[0m\u001b[0;34m)\u001b[0m\u001b[0;34m\u001b[0m\u001b[0;34m\u001b[0m\u001b[0m\n\u001b[1;32m    119\u001b[0m \u001b[0;34m\u001b[0m\u001b[0m\n\u001b[0;32m--> 120\u001b[0;31m             \u001b[0;32mreturn\u001b[0m \u001b[0mfunc\u001b[0m\u001b[0;34m(\u001b[0m\u001b[0;34m*\u001b[0m\u001b[0margs\u001b[0m\u001b[0;34m,\u001b[0m \u001b[0;34m**\u001b[0m\u001b[0mkwargs\u001b[0m\u001b[0;34m)\u001b[0m\u001b[0;34m\u001b[0m\u001b[0;34m\u001b[0m\u001b[0m\n\u001b[0m\u001b[1;32m    121\u001b[0m \u001b[0;34m\u001b[0m\u001b[0m\n\u001b[1;32m    122\u001b[0m         \u001b[0;32mreturn\u001b[0m \u001b[0mfunc_with_timeout\u001b[0m\u001b[0;34m\u001b[0m\u001b[0;34m\u001b[0m\u001b[0m\n",
            "\u001b[0;32m/usr/local/lib/python3.10/dist-packages/google/api_core/grpc_helpers.py\u001b[0m in \u001b[0;36merror_remapped_callable\u001b[0;34m(*args, **kwargs)\u001b[0m\n\u001b[1;32m     70\u001b[0m     \u001b[0;32mdef\u001b[0m \u001b[0merror_remapped_callable\u001b[0m\u001b[0;34m(\u001b[0m\u001b[0;34m*\u001b[0m\u001b[0margs\u001b[0m\u001b[0;34m,\u001b[0m \u001b[0;34m**\u001b[0m\u001b[0mkwargs\u001b[0m\u001b[0;34m)\u001b[0m\u001b[0;34m:\u001b[0m\u001b[0;34m\u001b[0m\u001b[0;34m\u001b[0m\u001b[0m\n\u001b[1;32m     71\u001b[0m         \u001b[0;32mtry\u001b[0m\u001b[0;34m:\u001b[0m\u001b[0;34m\u001b[0m\u001b[0;34m\u001b[0m\u001b[0m\n\u001b[0;32m---> 72\u001b[0;31m             \u001b[0;32mreturn\u001b[0m \u001b[0mcallable_\u001b[0m\u001b[0;34m(\u001b[0m\u001b[0;34m*\u001b[0m\u001b[0margs\u001b[0m\u001b[0;34m,\u001b[0m \u001b[0;34m**\u001b[0m\u001b[0mkwargs\u001b[0m\u001b[0;34m)\u001b[0m\u001b[0;34m\u001b[0m\u001b[0;34m\u001b[0m\u001b[0m\n\u001b[0m\u001b[1;32m     73\u001b[0m         \u001b[0;32mexcept\u001b[0m \u001b[0mgrpc\u001b[0m\u001b[0;34m.\u001b[0m\u001b[0mRpcError\u001b[0m \u001b[0;32mas\u001b[0m \u001b[0mexc\u001b[0m\u001b[0;34m:\u001b[0m\u001b[0;34m\u001b[0m\u001b[0;34m\u001b[0m\u001b[0m\n\u001b[1;32m     74\u001b[0m             \u001b[0;32mraise\u001b[0m \u001b[0mexceptions\u001b[0m\u001b[0;34m.\u001b[0m\u001b[0mfrom_grpc_error\u001b[0m\u001b[0;34m(\u001b[0m\u001b[0mexc\u001b[0m\u001b[0;34m)\u001b[0m \u001b[0;32mfrom\u001b[0m \u001b[0mexc\u001b[0m\u001b[0;34m\u001b[0m\u001b[0;34m\u001b[0m\u001b[0m\n",
            "\u001b[0;32m/usr/local/lib/python3.10/dist-packages/google/ai/generativelanguage_v1beta/services/generative_service/transports/rest.py\u001b[0m in \u001b[0;36m__call__\u001b[0;34m(self, request, retry, timeout, metadata)\u001b[0m\n\u001b[1;32m    844\u001b[0m             \u001b[0;31m# subclass.\u001b[0m\u001b[0;34m\u001b[0m\u001b[0;34m\u001b[0m\u001b[0m\n\u001b[1;32m    845\u001b[0m             \u001b[0;32mif\u001b[0m \u001b[0mresponse\u001b[0m\u001b[0;34m.\u001b[0m\u001b[0mstatus_code\u001b[0m \u001b[0;34m>=\u001b[0m \u001b[0;36m400\u001b[0m\u001b[0;34m:\u001b[0m\u001b[0;34m\u001b[0m\u001b[0;34m\u001b[0m\u001b[0m\n\u001b[0;32m--> 846\u001b[0;31m                 \u001b[0;32mraise\u001b[0m \u001b[0mcore_exceptions\u001b[0m\u001b[0;34m.\u001b[0m\u001b[0mfrom_http_response\u001b[0m\u001b[0;34m(\u001b[0m\u001b[0mresponse\u001b[0m\u001b[0;34m)\u001b[0m\u001b[0;34m\u001b[0m\u001b[0;34m\u001b[0m\u001b[0m\n\u001b[0m\u001b[1;32m    847\u001b[0m \u001b[0;34m\u001b[0m\u001b[0m\n\u001b[1;32m    848\u001b[0m             \u001b[0;31m# Return the response\u001b[0m\u001b[0;34m\u001b[0m\u001b[0;34m\u001b[0m\u001b[0m\n",
            "\u001b[0;31mInternalServerError\u001b[0m: 500 POST https://generativelanguage.googleapis.com/v1beta/models/gemini-1.0-pro-latest:generateContent?%24alt=json%3Benum-encoding%3Dint: An internal error has occurred. Please retry or report in https://developers.generativeai.google/guide/troubleshooting"
          ]
        }
      ],
      "source": [
        "import google.generativeai as genai\n",
        "from google.colab import userdata\n",
        "\n",
        "from IPython.display import clear_output\n",
        "import geopy.geocoders\n",
        "from geopy.geocoders import Nominatim\n",
        "from geopy.exc import GeocoderUnavailable, GeocoderTimedOut\n",
        "from googleapiclient.discovery import build\n",
        "\n",
        "import newspaper\n",
        "import nltk\n",
        "import requests\n",
        "import json\n",
        "import os\n",
        "import time\n",
        "from unstructured.partition.html import partition_html  # Importando a função\n",
        "from bs4 import BeautifulSoup\n",
        "from urllib.parse import urlparse\n",
        "from googleapiclient.discovery import build\n",
        "from newspaper import Article, ArticleException  # Import ArticleException\n",
        "import textwrap\n",
        "import re\n",
        "from googleapiclient.errors import HttpError\n",
        "\n",
        "from IPython.display import display\n",
        "from IPython.display import Markdown\n",
        "\n",
        "from google.colab import userdata\n",
        "\n",
        "GOOGLE_API_KEY = userdata.get('GOOGLE_API_KEY')\n",
        "SEARCH_ENGINE_ID = userdata.get('SEARCH_ENGINE_ID')\n",
        "\n",
        "genai.configure(api_key=google_api_key)\n",
        "\n",
        "generation_config = {\n",
        "\t'candidate_count': 1,\n",
        "\t'temperature': 0.5\n",
        "}\n",
        "\n",
        "safety_settings = {\n",
        "\t\"HARASSMENT\": \"BLOCK_NONE\",\n",
        "\t\"HATE\": \"BLOCK_NONE\",\n",
        "\t\"SEXUAL\": \"BLOCK_NONE\",\n",
        "\t\"DANGEROUS\": \"BLOCK_NONE\"\n",
        "}\n",
        "\n",
        "model = genai.GenerativeModel(model_name=\"gemini-1.0-pro-latest\",\n",
        "                              generation_config=generation_config,\n",
        "                              safety_settings=safety_settings)\n",
        "\n",
        "chat = model.start_chat(history=[])\n",
        "\n",
        "def to_markdown(text, role):\n",
        "    \"\"\"Converts text to Markdown with styling based on the role.\"\"\"\n",
        "    if role == 'user':\n",
        "        return Markdown(f'**{role}**: {text}')  # Bold user text\n",
        "    else:\n",
        "        return Markdown(textwrap.indent(text, '> ', lambda line: True))  # Indent assistant text\n",
        "\n",
        "def resumir_noticia_com_gemini(url):\n",
        "    \"\"\"Resume a notícia com o Gemini, verificando a conexão com a internet e pulando silenciosamente em caso de erro.\"\"\"\n",
        "    try:\n",
        "        requests.head(url, timeout=5)  # Testa a conexão com a URL\n",
        "        prompt = f\"Resuma a notícia e coloque o link da notícia e a data da publicação se tiver:\\n\\n{url}\"\n",
        "        resposta = chat.send_message(prompt)\n",
        "        return resposta.text\n",
        "    except requests.ConnectionError:\n",
        "        return None  # Retorna None em caso de erro de conexão\n",
        "\n",
        "def prever_areas_de_risco():\n",
        "    #clear_output()\n",
        "    print(\"**Prever Possíveis Áreas de Risco**\")\n",
        "    cidade = input(\"Digite o nome da sua cidade: \")\n",
        "    historico_enchentes = obter_historico_enchentes(cidade)  # Função para obter dados históricos\n",
        "    previsao_tempo = obter_previsao_tempo(cidade)  # Função para obter previsão do tempo\n",
        "\n",
        "    prompt = f\"Com base no histórico de enchentes em {cidade} ({historico_enchentes}) e na previsão do tempo ({previsao_tempo}), quais as áreas com maior risco de inundação?\"\n",
        "    resposta = chat.send_message(prompt)\n",
        "\n",
        "    if resposta:\n",
        "        print(\"Áreas com maior risco de inundação:\")\n",
        "        print(resposta.text)\n",
        "    else:\n",
        "        print(\"Não foi possível prever as áreas de risco.\")\n",
        "\n",
        "def obter_historico_enchentes(cidade):\n",
        "    \"\"\"Obtém informações sobre o histórico de enchentes em uma cidade.\"\"\"\n",
        "\n",
        "    query = f\"histórico de enchentes em {cidade}, Rio Grande do Sul\"\n",
        "    resultados = buscar_informacoes_google_cse(query, GOOGLE_API_KEY, SEARCH_ENGINE_ID)\n",
        "\n",
        "    historico = \"\"\n",
        "    for resultado in resultados:\n",
        "        resumo = resumir_noticia_com_gemini(resultado['link'])\n",
        "        if resumo:\n",
        "            historico += resumo + \"\\n\\n\"\n",
        "\n",
        "    if not historico:\n",
        "        historico = f\"Não foram encontradas informações sobre o histórico de enchentes em {cidade}.\"\n",
        "\n",
        "    return historico\n",
        "\n",
        "\n",
        "def obter_previsao_tempo(cidade):\n",
        "    \"\"\"Obtém a previsão do tempo para uma cidade.\"\"\"\n",
        "\n",
        "    query = f\"previsão do tempo em {cidade}, Rio Grande do Sul\"\n",
        "    resultados = buscar_informacoes_google_cse(query, GOOGLE_API_KEY, SEARCH_ENGINE_ID)\n",
        "\n",
        "    previsao = \"\"\n",
        "    for resultado in resultados:\n",
        "        resumo = resumir_noticia_com_gemini(resultado['link'])\n",
        "        if resumo:\n",
        "            previsao += resumo + \"\\n\\n\"\n",
        "\n",
        "    if not previsao:\n",
        "        previsao = f\"Não foi possível obter a previsão do tempo para {cidade}.\"\n",
        "\n",
        "    return previsao\n",
        "\n",
        "def responder_pergunta_sobre_noticia(noticias, pergunta):\n",
        "    \"\"\"Responde a uma pergunta sobre as notícias fornecidas usando o Gemini.\"\"\"\n",
        "    try:\n",
        "        #todos_os_textos = \"\\n\\n\".join([n['texto'] for n in noticias if 'texto' in n])  # Verifica se a chave 'texto' existe\n",
        "        prompt = f\"Responda à pergunta com base nas seguintes notícias:\\n\\n{noticias}\\n\\nPergunta: {pergunta}\"\n",
        "\n",
        "        # Gemini Pro API call (replace with your actual implementation)\n",
        "        resposta = chat.send_message(prompt)\n",
        "\n",
        "        if resposta:\n",
        "            return resposta.text\n",
        "        else:\n",
        "            return \"Gemini Pro não encontrou informações suficientes para responder à pergunta.\"\n",
        "\n",
        "    except Exception as e:\n",
        "        print(f\"Erro ao gerar resposta com o Gemini Pro: {e}\")\n",
        "        return \"Ocorreu um erro ao processar sua pergunta.\"\n",
        "\n",
        "def gerar_alerta_enchente(cidade):\n",
        "    \"\"\"Gera um alerta personalizado sobre enchentes em uma cidade usando o Gemini.\"\"\"\n",
        "    prompt = f\"Gere um alerta sobre enchentes em {cidade}, Rio Grande do Sul, com informações sobre áreas afetadas, recomendações de segurança e locais de doação.\"\n",
        "    resposta = chat.send_message(prompt)\n",
        "    return resposta.text\n",
        "\n",
        "from datetime import datetime\n",
        "\n",
        "def buscar_informacoes_google_cse(query, api_key, search_engine_id, num_results=10, start_index=1):\n",
        "    \"\"\"Busca informações sobre enchentes e alagamentos em 2024, excluindo resultados do YouTube.\"\"\"\n",
        "    try:\n",
        "        service = build(\"customsearch\", \"v1\", developerKey=api_key)\n",
        "\n",
        "        all_results = []\n",
        "        while len(all_results) < num_results:\n",
        "            result = service.cse().list(\n",
        "                q=query, cx=search_engine_id, num=min(10, num_results - len(all_results)), start=start_index,\n",
        "                sort='date:r:20240101:20241231'\n",
        "            ).execute()\n",
        "            items = result.get(\"items\", [])\n",
        "            if not items:\n",
        "                break\n",
        "\n",
        "            for item in items:\n",
        "                # Verificar se o link não é do YouTube\n",
        "                if not item[\"link\"].startswith(\"https://www.youtube.com/\"):\n",
        "                    # Filtrar por relevância (palavras-chave relacionadas a enchentes no RS)\n",
        "                    if any(keyword in item[\"title\"].lower() or keyword in item[\"snippet\"].lower()\n",
        "                           for keyword in [\"enchente\", \"alagamento\", \"inundação\", \"rio grande do sul\", \"rs\"]):\n",
        "                        all_results.append({\n",
        "                            \"titulo\": item[\"title\"],\n",
        "                            \"link\": item[\"link\"],\n",
        "                            \"snippet\": item[\"snippet\"],\n",
        "                        })\n",
        "\n",
        "            start_index += 10\n",
        "            time.sleep(1)\n",
        "\n",
        "        return all_results\n",
        "\n",
        "    except HttpError as e:\n",
        "        print(f\"Erro na solicitação HTTP: {e}\")\n",
        "    except Exception as e:\n",
        "        print(f\"Erro ao buscar informações: {e}\")\n",
        "    return []\n",
        "\n",
        "\n",
        "def valida_localizacao(cidade, geolocator=None):\n",
        "  if geolocator is None:\n",
        "      geolocator = Nominatim(user_agent=\"verificador_cidade_br\")\n",
        "\n",
        "  try:\n",
        "      localizacao = geolocator.geocode(cidade, country_codes=\"BR\", language=\"pt-BR\")\n",
        "      #print(localizacao)\n",
        "      if localizacao:\n",
        "          # Verifica se o tipo de lugar é 'city' ou se o nome da cidade está no endereço\n",
        "          if (\n",
        "              localizacao.raw.get(\"place_type\") == \"city\"\n",
        "              or cidade.lower() in localizacao.address.lower()\n",
        "          ):\n",
        "              return True\n",
        "\n",
        "      return False\n",
        "\n",
        "  except (GeocoderUnavailable, GeocoderTimedOut) as e:\n",
        "      print(f\"Erro ao acessar o serviço de geocodificação: {e}\")\n",
        "      return False\n",
        "  except KeyError:\n",
        "      return False\n",
        "\n",
        "  try:\n",
        "      # Tenta encontrar a cidade utilizando o Geopy\n",
        "      localizacao = geolocator.geocode(cidade)\n",
        "      return True\n",
        "  except Exception:\n",
        "      return False\n",
        "\n",
        "def informacoes_enchentes():\n",
        "    #clear_output()\n",
        "    print(\"**Últimas Informações sobre as Enchentes no RS**\")\n",
        "\n",
        "    query = f\"Enchentes no Rio Grande do Sul 2024\"\n",
        "    resultados = buscar_informacoes_google_cse(query, GOOGLE_API_KEY, SEARCH_ENGINE_ID)\n",
        "\n",
        "    if resultados:\n",
        "        noticias_formatadas = []\n",
        "        todos_os_resumos = []  # Lista para armazenar todos os resumos/snippets\n",
        "\n",
        "        for resultado in resultados:\n",
        "            #print(\"\\nResultados da busca: results:\"+f\"{resultado['titulo']} ({resultado['link']}):\\n{resultado['snippet']}\\n\")\n",
        "\n",
        "            resumo = resumir_noticia_com_gemini(resultado['link'])\n",
        "\n",
        "            if resumo:\n",
        "                noticia_formatada = to_markdown(resumo, '')\n",
        "                todos_os_resumos.append(resumo)\n",
        "            else:\n",
        "                noticia_formatada = to_markdown(f\"{resultado['titulo']} ({resultado['link']}):\\n{resultado['snippet']}\\n\", '')\n",
        "                todos_os_resumos.append(resultado['snippet'])\n",
        "\n",
        "            noticias_formatadas.append(noticia_formatada)\n",
        "            display(noticia_formatada)\n",
        "            print('------------')\n",
        "\n",
        "        # Loop de perguntas após exibir todos os resumos\n",
        "        while True:\n",
        "          chat = model.start_chat(history=[])\n",
        "          pergunta = input(\"Deseja fazer alguma pergunta sobre as notícias exibidas? (s/n): \")\n",
        "          if pergunta.lower() == 's':\n",
        "              pergunta_usuario = input(\"Digite sua pergunta sobre as notícias: \")  # Input para a pergunta do usuário\n",
        "              todos_os_textos = \"\\n\\n\".join(todos_os_resumos)  # Join the strings directly\n",
        "\n",
        "              resposta = responder_pergunta_sobre_noticia(todos_os_textos, pergunta_usuario)  # Passar a pergunta do usuário\n",
        "\n",
        "              if resposta:\n",
        "                  print(f\"Resposta: {resposta}\\n\")\n",
        "              else:\n",
        "                  print(\"Não foi possível responder à pergunta.\\n\")\n",
        "          elif pergunta.lower() == 'n':\n",
        "              break\n",
        "          else:\n",
        "              print(\"Opção inválida. Digite 's' para sim ou 'n' para não.\")\n",
        "\n",
        "    else:\n",
        "        print(\"Nenhum resultado encontrado.\")\n",
        "\n",
        "def lugares_doacoes():\n",
        "    #clear_output()\n",
        "    print(\"**Lugares para Doação**\")\n",
        "    input_cidade = input(\"Digite um local para doação específico: \").strip().lower()\n",
        "\n",
        "    if not input_cidade:\n",
        "        print(\"Por favor, digite um local para doação.\")\n",
        "        return\n",
        "\n",
        "    if valida_localizacao(input_cidade):\n",
        "        query = f\"Pontos de doações em {input_cidade} Rio Grande do Sul\"\n",
        "        resultados = buscar_informacoes_google_cse(query, GOOGLE_API_KEY, SEARCH_ENGINE_ID)\n",
        "\n",
        "        if resultados:\n",
        "            print(\"\\nResultados da busca:\")\n",
        "            todos_os_resumos = []  # Lista para armazenar resumos/snippets\n",
        "\n",
        "            for resultado in resultados:\n",
        "                resumo = resumir_noticia_com_gemini(resultado['link'])\n",
        "\n",
        "                if resumo:\n",
        "                    noticia_formatada = to_markdown(resumo, '')\n",
        "                    todos_os_resumos.append(resumo)\n",
        "                else:\n",
        "                    noticia_formatada = to_markdown(f\"{resultado['titulo']} ({resultado['link']}):\\n{resultado['snippet']}\\n\", '')\n",
        "                    todos_os_resumos.append(resultado['snippet'])\n",
        "\n",
        "                display(noticia_formatada)\n",
        "                print('------------')\n",
        "\n",
        "            # Loop de perguntas após exibir todos os resumos\n",
        "            while True:\n",
        "                chat = model.start_chat(history=[])  # Reinicia o histórico do chat para cada pergunta\n",
        "                pergunta = input(\"Deseja fazer alguma pergunta sobre os locais de doação exibidos? (s/n): \")\n",
        "                if pergunta.lower() == 's':\n",
        "                    pergunta_usuario = input(\"Digite sua pergunta sobre os locais de doação: \")\n",
        "                    todos_os_textos = \"\\n\\n\".join(todos_os_resumos)\n",
        "                    resposta = responder_pergunta_sobre_noticia(todos_os_textos, pergunta_usuario)\n",
        "\n",
        "                    if resposta:\n",
        "                        print(f\"Resposta: {resposta}\\n\")\n",
        "                    else:\n",
        "                        print(\"Não foi possível responder à pergunta.\\n\")\n",
        "                elif pergunta.lower() == 'n':\n",
        "                    break\n",
        "                else:\n",
        "                    print(\"Opção inválida. Digite 's' para sim ou 'n' para não.\")\n",
        "        else:\n",
        "            print(\"Nenhum resultado encontrado.\")\n",
        "    else:\n",
        "        print(f\"A cidade '{input_cidade}' não foi encontrada no Brasil ou não é válida.\")\n",
        "\n",
        "\n",
        "def itens_doacoes():\n",
        "    #clear_output()\n",
        "    print(\"**Ítens para Doação**\")\n",
        "    input_cidade = input(\"Digite um local para doação específico: \").strip().lower()\n",
        "\n",
        "    if not input_cidade:\n",
        "        print(\"Por favor, digite um local para doação.\")\n",
        "        return\n",
        "\n",
        "    if valida_localizacao(input_cidade):\n",
        "        query = f\"Quais Ítens para doações em {input_cidade} Rio Grande do Sul\"\n",
        "        resultados = buscar_informacoes_google_cse(query, GOOGLE_API_KEY, SEARCH_ENGINE_ID)\n",
        "\n",
        "        if resultados:\n",
        "            print(\"\\nResultados da busca:\")\n",
        "            todos_os_resumos = []  # Lista para armazenar resumos/snippets\n",
        "\n",
        "            for resultado in resultados:\n",
        "                resumo = resumir_noticia_com_gemini(resultado['link'])\n",
        "\n",
        "                if resumo:\n",
        "                    noticia_formatada = to_markdown(resumo, '')\n",
        "                    todos_os_resumos.append(resumo)\n",
        "                else:\n",
        "                    noticia_formatada = to_markdown(f\"{resultado['titulo']} ({resultado['link']}):\\n{resultado['snippet']}\\n\", '')\n",
        "                    todos_os_resumos.append(resultado['snippet'])\n",
        "\n",
        "                display(noticia_formatada)\n",
        "                print('------------')\n",
        "\n",
        "            # Loop de perguntas após exibir todos os resumos\n",
        "            while True:\n",
        "                chat = model.start_chat(history=[])  # Reinicia o histórico do chat para cada pergunta\n",
        "                pergunta = input(\"Deseja fazer alguma pergunta sobre os ítens para doação exibidos? (s/n): \")\n",
        "                if pergunta.lower() == 's':\n",
        "                    pergunta_usuario = input(\"Digite sua pergunta sobre os ítens para doação: \")\n",
        "                    todos_os_textos = \"\\n\\n\".join(todos_os_resumos)\n",
        "                    resposta = responder_pergunta_sobre_noticia(todos_os_textos, pergunta_usuario)\n",
        "\n",
        "                    if resposta:\n",
        "                        print(f\"Resposta: {resposta}\\n\")\n",
        "                    else:\n",
        "                        print(\"Não foi possível responder à pergunta.\\n\")\n",
        "                elif pergunta.lower() == 'n':\n",
        "                    break\n",
        "                else:\n",
        "                    print(\"Opção inválida. Digite 's' para sim ou 'n' para não.\")\n",
        "        else:\n",
        "            print(\"Nenhum resultado encontrado.\")\n",
        "    else:\n",
        "        print(f\"A cidade '{input_cidade}' não foi encontrada no Brasil ou não é válida.\")\n",
        "\n",
        "def informacoes_defesa_civil():\n",
        "    #clear_output()\n",
        "    print(\"**Informações e Alertas da Defesa Civil do RS**\")\n",
        "\n",
        "    query = \"Avisos defesa civil enchentes Rio Grande do Sul enchentes\"\n",
        "    resultados = buscar_informacoes_google_cse(query, GOOGLE_API_KEY, SEARCH_ENGINE_ID)\n",
        "\n",
        "    if resultados:\n",
        "        print(\"\\nResultados da busca:\")\n",
        "        todos_os_resumos = []  # Lista para armazenar resumos/snippets\n",
        "\n",
        "        for resultado in resultados:\n",
        "            resumo = resumir_noticia_com_gemini(resultado['link'])\n",
        "\n",
        "            if resumo:\n",
        "                noticia_formatada = to_markdown(resumo, '')\n",
        "                todos_os_resumos.append(resumo)\n",
        "            else:\n",
        "                noticia_formatada = to_markdown(f\"{resultado['titulo']} ({resultado['link']}):\\n{resultado['snippet']}\\n\", '')\n",
        "                todos_os_resumos.append(resultado['snippet'])\n",
        "\n",
        "            display(noticia_formatada)\n",
        "            print('------------')\n",
        "\n",
        "        # Loop de perguntas após exibir todos os resumos\n",
        "        while True:\n",
        "            chat = model.start_chat(history=[])  # Reinicia o histórico do chat para cada pergunta\n",
        "            pergunta = input(\"Deseja fazer alguma pergunta sobre os Alertas da Defesa Civil (s/n): \")\n",
        "            if pergunta.lower() == 's':\n",
        "                pergunta_usuario = input(\"Digite sua pergunta sobre os Alertas da Defesa Civil: \")\n",
        "                todos_os_textos = \"\\n\\n\".join(todos_os_resumos)\n",
        "                resposta = responder_pergunta_sobre_noticia(todos_os_textos, pergunta_usuario)\n",
        "\n",
        "                if resposta:\n",
        "                    print(f\"Resposta: {resposta}\\n\")\n",
        "                else:\n",
        "                    print(\"Não foi possível responder à pergunta.\\n\")\n",
        "            elif pergunta.lower() == 'n':\n",
        "                break\n",
        "            else:\n",
        "                print(\"Opção inválida. Digite 's' para sim ou 'n' para não.\")\n",
        "    else:\n",
        "        print(\"Nenhum resultado encontrado.\")\n",
        "\n",
        "\n",
        "def menu_principal():\n",
        "  \"\"\"Exibe o menu principal e interage com o usuário.\"\"\"\n",
        "  while True:\n",
        "    print(\"\\nMenu Principal:\")\n",
        "    print(\"1. Últimas Informações sobre as Enchentes no RS\")\n",
        "    print(\"2. Lugares para Doações\")\n",
        "    print(\"3. Ítens Necessários para Doações\")\n",
        "    print(\"4. Informações Urgentes da Defesa Civil\")\n",
        "    print(\"5. Prever Áreas de Risco\")\n",
        "    print(\"6. Sair\")\n",
        "    opcao = input(\"Digite sua opção: \")\n",
        "    if opcao == \"1\":\n",
        "      informacoes_enchentes()\n",
        "    elif opcao == \"2\":\n",
        "      lugares_doacoes()\n",
        "    elif opcao == \"3\":\n",
        "      itens_doacoes()\n",
        "    elif opcao == \"4\":\n",
        "      informacoes_defesa_civil()\n",
        "    elif opcao == \"5\":\n",
        "      prever_areas_de_risco()\n",
        "    elif opcao == \"6\":\n",
        "      break\n",
        "    else:\n",
        "      print(\"Opção inválida. Tente novamente.\")\n",
        "\n",
        "# Executar o menu principal\n",
        "menu_principal()"
      ]
    },
    {
      "cell_type": "code",
      "source": [],
      "metadata": {
        "id": "c_opW_R_Rxvg"
      },
      "execution_count": null,
      "outputs": []
    }
  ],
  "metadata": {
    "colab": {
      "provenance": [],
      "authorship_tag": "ABX9TyNmhxsvcTaZNRav7hmFmXzp",
      "include_colab_link": true
    },
    "kernelspec": {
      "display_name": "Python 3",
      "name": "python3"
    },
    "language_info": {
      "name": "python"
    }
  },
  "nbformat": 4,
  "nbformat_minor": 0
}